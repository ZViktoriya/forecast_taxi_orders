{
 "cells": [
  {
   "cell_type": "markdown",
   "metadata": {
    "toc": true
   },
   "source": [
    "<h1>Содержание<span class=\"tocSkip\"></span></h1>\n",
    "<div class=\"toc\"><ul class=\"toc-item\"><li><span><a href=\"#Подготовка\" data-toc-modified-id=\"Подготовка-1\"><span class=\"toc-item-num\">1&nbsp;&nbsp;</span>Подготовка</a></span><ul class=\"toc-item\"><li><span><a href=\"#Загружаем-данные-и-изучим-их.\" data-toc-modified-id=\"Загружаем-данные-и-изучим-их.-1.1\"><span class=\"toc-item-num\">1.1&nbsp;&nbsp;</span>Загружаем данные и изучим их.</a></span></li><li><span><a href=\"#Выполним-ресемплирование-по-одному-часу.\" data-toc-modified-id=\"Выполним-ресемплирование-по-одному-часу.-1.2\"><span class=\"toc-item-num\">1.2&nbsp;&nbsp;</span>Выполним ресемплирование по одному часу.</a></span></li></ul></li><li><span><a href=\"#Анализ\" data-toc-modified-id=\"Анализ-2\"><span class=\"toc-item-num\">2&nbsp;&nbsp;</span>Анализ</a></span></li><li><span><a href=\"#Обучение\" data-toc-modified-id=\"Обучение-3\"><span class=\"toc-item-num\">3&nbsp;&nbsp;</span>Обучение</a></span><ul class=\"toc-item\"><li><span><a href=\"#Создание-признаков.\" data-toc-modified-id=\"Создание-признаков.-3.1\"><span class=\"toc-item-num\">3.1&nbsp;&nbsp;</span>Создание признаков.</a></span></li><li><span><a href=\"#Разделение-данных-на-обучающую-и-тестовую-выборки.\" data-toc-modified-id=\"Разделение-данных-на-обучающую-и-тестовую-выборки.-3.2\"><span class=\"toc-item-num\">3.2&nbsp;&nbsp;</span>Разделение данных на обучающую и тестовую выборки.</a></span></li><li><span><a href=\"#Обучим-разные-модели-с-различными-гиперпараметрами.\" data-toc-modified-id=\"Обучим-разные-модели-с-различными-гиперпараметрами.-3.3\"><span class=\"toc-item-num\">3.3&nbsp;&nbsp;</span>Обучим разные модели с различными гиперпараметрами.</a></span></li></ul></li><li><span><a href=\"#Тестирование\" data-toc-modified-id=\"Тестирование-4\"><span class=\"toc-item-num\">4&nbsp;&nbsp;</span>Тестирование</a></span></li><li><span><a href=\"#Чек-лист-проверки\" data-toc-modified-id=\"Чек-лист-проверки-5\"><span class=\"toc-item-num\">5&nbsp;&nbsp;</span>Чек-лист проверки</a></span></li></ul></div>"
   ]
  },
  {
   "cell_type": "markdown",
   "metadata": {},
   "source": [
    "# **<p style=\"text-align: center;\">Прогнозирование заказов такси.</p>**"
   ]
  },
  {
   "cell_type": "markdown",
   "metadata": {},
   "source": [
    "Компания «Чётенькое такси» собрала исторические данные о заказах такси в аэропортах. Чтобы привлекать больше водителей в период пиковой нагрузки, нужно спрогнозировать количество заказов такси на следующий час. Постройте модель для такого предсказания."
   ]
  },
  {
   "cell_type": "markdown",
   "metadata": {},
   "source": [
    "<img src=\"https://s.ura.news/1200_675/images/news/upload/news/674/214/1052674214/792715_Vidi_Moskvi_Moskva_taksi_toyota_yandeks_taksi_250x0_5514.3676.0.0.jpg\" alt=\"Avto\" width=\"30%\" height=\"30%\">"
   ]
  },
  {
   "cell_type": "markdown",
   "metadata": {},
   "source": [
    "Значение метрики *RMSE* на тестовой выборке должно быть не больше 48.\n",
    "\n",
    "Вам нужно:\n",
    "\n",
    "1. Загрузить данные и выполнить их ресемплирование по одному часу.\n",
    "2. Проанализировать данные.\n",
    "3. Обучить разные модели с различными гиперпараметрами. Сделать тестовую выборку размером 10% от исходных данных.\n",
    "4. Проверить данные на тестовой выборке и сделать выводы."
   ]
  },
  {
   "cell_type": "code",
   "execution_count": 2,
   "metadata": {},
   "outputs": [],
   "source": [
    "!pip install -q pmdarima"
   ]
  },
  {
   "cell_type": "code",
   "execution_count": 4,
   "metadata": {},
   "outputs": [],
   "source": [
    "import numpy as np\n",
    "import pandas as pd\n",
    "import statsmodels.api as sm\n",
    "import matplotlib.pyplot as plt\n",
    "import pmdarima as pm\n",
    "\n",
    "from itertools import product\n",
    "from statsmodels.tsa.arima.model import ARIMA\n",
    "from statsmodels.tsa.seasonal import seasonal_decompose\n",
    "from pmdarima.arima import auto_arima\n",
    "\n",
    "from sklearn.ensemble import RandomForestRegressor\n",
    "from sklearn.linear_model import Lasso\n",
    "from sklearn.metrics import mean_squared_error, make_scorer\n",
    "from sklearn.model_selection import GridSearchCV,TimeSeriesSplit, train_test_split\n",
    "\n",
    "import lightgbm as lgb\n",
    "from catboost import CatBoostRegressor\n",
    "from lightgbm import LGBMRegressor"
   ]
  },
  {
   "cell_type": "markdown",
   "metadata": {},
   "source": [
    "## Подготовка"
   ]
  },
  {
   "cell_type": "markdown",
   "metadata": {},
   "source": [
    "### Загружаем данные и изучим их."
   ]
  },
  {
   "cell_type": "code",
   "execution_count": 5,
   "metadata": {},
   "outputs": [],
   "source": [
    "taxi_df = pd.read_csv('/datasets/taxi.csv',index_col=[0], parse_dates=[0])"
   ]
  },
  {
   "cell_type": "code",
   "execution_count": 6,
   "metadata": {},
   "outputs": [
    {
     "data": {
      "text/html": [
       "<div>\n",
       "<style scoped>\n",
       "    .dataframe tbody tr th:only-of-type {\n",
       "        vertical-align: middle;\n",
       "    }\n",
       "\n",
       "    .dataframe tbody tr th {\n",
       "        vertical-align: top;\n",
       "    }\n",
       "\n",
       "    .dataframe thead th {\n",
       "        text-align: right;\n",
       "    }\n",
       "</style>\n",
       "<table border=\"1\" class=\"dataframe\">\n",
       "  <thead>\n",
       "    <tr style=\"text-align: right;\">\n",
       "      <th></th>\n",
       "      <th>num_orders</th>\n",
       "    </tr>\n",
       "    <tr>\n",
       "      <th>datetime</th>\n",
       "      <th></th>\n",
       "    </tr>\n",
       "  </thead>\n",
       "  <tbody>\n",
       "    <tr>\n",
       "      <th>2018-03-01 00:00:00</th>\n",
       "      <td>9</td>\n",
       "    </tr>\n",
       "    <tr>\n",
       "      <th>2018-03-01 00:10:00</th>\n",
       "      <td>14</td>\n",
       "    </tr>\n",
       "    <tr>\n",
       "      <th>2018-03-01 00:20:00</th>\n",
       "      <td>28</td>\n",
       "    </tr>\n",
       "    <tr>\n",
       "      <th>2018-03-01 00:30:00</th>\n",
       "      <td>20</td>\n",
       "    </tr>\n",
       "    <tr>\n",
       "      <th>2018-03-01 00:40:00</th>\n",
       "      <td>32</td>\n",
       "    </tr>\n",
       "  </tbody>\n",
       "</table>\n",
       "</div>"
      ],
      "text/plain": [
       "                     num_orders\n",
       "datetime                       \n",
       "2018-03-01 00:00:00           9\n",
       "2018-03-01 00:10:00          14\n",
       "2018-03-01 00:20:00          28\n",
       "2018-03-01 00:30:00          20\n",
       "2018-03-01 00:40:00          32"
      ]
     },
     "execution_count": 6,
     "metadata": {},
     "output_type": "execute_result"
    }
   ],
   "source": [
    "taxi_df.head()"
   ]
  },
  {
   "cell_type": "code",
   "execution_count": 7,
   "metadata": {},
   "outputs": [
    {
     "name": "stdout",
     "output_type": "stream",
     "text": [
      "<class 'pandas.core.frame.DataFrame'>\n",
      "DatetimeIndex: 26496 entries, 2018-03-01 00:00:00 to 2018-08-31 23:50:00\n",
      "Data columns (total 1 columns):\n",
      " #   Column      Non-Null Count  Dtype\n",
      "---  ------      --------------  -----\n",
      " 0   num_orders  26496 non-null  int64\n",
      "dtypes: int64(1)\n",
      "memory usage: 414.0 KB\n"
     ]
    }
   ],
   "source": [
    "taxi_df.info()"
   ]
  },
  {
   "cell_type": "markdown",
   "metadata": {},
   "source": [
    "Данные из файла \"taxi.csv\" загружены в pandas DataFrame, где индекс это колонка с датой и временем, а другая колонка содержит количество заказов такси в каждый момент времени.Пропуски в данных отсутствуют."
   ]
  },
  {
   "cell_type": "markdown",
   "metadata": {},
   "source": [
    "### Выполним ресемплирование по одному часу."
   ]
  },
  {
   "cell_type": "code",
   "execution_count": 8,
   "metadata": {},
   "outputs": [],
   "source": [
    "taxi_df.sort_index(inplace=True)\n",
    "taxi_df = taxi_df.resample('1H').sum()"
   ]
  },
  {
   "cell_type": "markdown",
   "metadata": {},
   "source": [
    "Выполнили ресемплирование данных по одному часу. Это позволит нам агрегировать данные и создать признаки для прогнозирования."
   ]
  },
  {
   "cell_type": "code",
   "execution_count": 10,
   "metadata": {},
   "outputs": [
    {
     "name": "stdout",
     "output_type": "stream",
     "text": [
      "Первая дата в данных: 2018-03-01 00:00:00\n",
      "Последняя дата в данных: 2018-08-31 23:00:00\n"
     ]
    }
   ],
   "source": [
    "first_date = taxi_df.index.min()\n",
    "\n",
    "last_date = taxi_df.index.max()\n",
    "\n",
    "print(\"Первая дата в данных:\", first_date)\n",
    "print(\"Последняя дата в данных:\", last_date)"
   ]
  },
  {
   "cell_type": "code",
   "execution_count": 11,
   "metadata": {},
   "outputs": [
    {
     "name": "stdout",
     "output_type": "stream",
     "text": [
      "Дата с минимальным количеством заказов: 2018-04-06 06:00:00\n",
      "Дата с максимальным количеством заказов: 2018-08-20 02:00:00\n"
     ]
    }
   ],
   "source": [
    "min_date = taxi_df['num_orders'].idxmin()\n",
    "\n",
    "max_date = taxi_df['num_orders'].idxmax()\n",
    "\n",
    "print(\"Дата с минимальным количеством заказов:\", min_date)\n",
    "print(\"Дата с максимальным количеством заказов:\", max_date)"
   ]
  },
  {
   "cell_type": "code",
   "execution_count": 12,
   "metadata": {},
   "outputs": [
    {
     "name": "stdout",
     "output_type": "stream",
     "text": [
      "Количество заказов для минимальной даты: 0\n",
      "Количество заказов для максимальной даты: 462\n"
     ]
    }
   ],
   "source": [
    "orders_at_min_date = taxi_df.loc[min_date]['num_orders']\n",
    "orders_at_max_date = taxi_df.loc[max_date]['num_orders']\n",
    "\n",
    "print(\"Количество заказов для минимальной даты:\", orders_at_min_date)\n",
    "print(\"Количество заказов для максимальной даты:\", orders_at_max_date)"
   ]
  },
  {
   "cell_type": "markdown",
   "metadata": {},
   "source": [
    "На основе проведенного ресемплирования по часам можно сделать следующие выводы:\n",
    "\n",
    "- Период данных: Исходные данные о заказах такси охватывают период с 1 марта 2018 года по 31 августа 2018 года. Это шесть месяцев наблюдений.\n",
    "\n",
    "- Минимальное и максимальное количество заказов: Минимальное количество заказов такси (на один час) составляет 0 заказов и было зарегистрировано 6 апреля 2018 года в 06:00:00, а максимальное количество заказов (на один час) составляет 462 заказа и было зарегистрировано 20 августа 2018 года в 02:00:00."
   ]
  },
  {
   "cell_type": "markdown",
   "metadata": {},
   "source": [
    "## Анализ"
   ]
  },
  {
   "cell_type": "code",
   "execution_count": 14,
   "metadata": {},
   "outputs": [
    {
     "data": {
      "image/png": "[encoded data removed]",
      "text/plain": [
       "<Figure size 1080x432 with 1 Axes>"
      ]
     },
     "metadata": {
      "needs_background": "light"
     },
     "output_type": "display_data"
    }
   ],
   "source": [
    "plt.figure(figsize=(15, 6))\n",
    "taxi_df['num_orders'].plot(label='По часам')\n",
    "taxi_df['num_orders'].rolling(24).mean().plot(label='Среднее за сутки')\n",
    "taxi_df['num_orders'].rolling(24 * 7).mean().plot(label='Среднее за неделю')\n",
    "plt.title('График количества заказов такси')\n",
    "plt.xlabel('Дата и время')\n",
    "plt.ylabel('Количество заказов')\n",
    "plt.legend()\n",
    "plt.show()"
   ]
  },
  {
   "cell_type": "code",
   "execution_count": 15,
   "metadata": {},
   "outputs": [
    {
     "data": {
      "image/png": "[encoded data removed]",
      "text/plain": [
       "<Figure size 432x576 with 3 Axes>"
      ]
     },
     "metadata": {
      "needs_background": "light"
     },
     "output_type": "display_data"
    },
    {
     "data": {
      "image/png": "[encoded data removed]",
      "text/plain": [
       "<Figure size 720x288 with 1 Axes>"
      ]
     },
     "metadata": {
      "needs_background": "light"
     },
     "output_type": "display_data"
    }
   ],
   "source": [
    "decomposed = sm.tsa.seasonal_decompose(taxi_df)\n",
    "\n",
    "plt.figure(figsize=(6, 8))\n",
    "plt.subplot(311)\n",
    "decomposed.trend.plot(ax=plt.gca())\n",
    "plt.title('Trend')\n",
    "plt.subplot(312)\n",
    "decomposed.seasonal.plot(ax=plt.gca())\n",
    "plt.title('Seasonality')\n",
    "plt.subplot(313)\n",
    "decomposed.resid.plot(ax=plt.gca())\n",
    "plt.title('Residuals')\n",
    "plt.tight_layout()\n",
    "\n",
    "plt.figure(figsize=(10, 4))\n",
    "decomposed.seasonal.plot()\n",
    "plt.title('Seasonal Component')\n",
    "\n",
    "plt.show()"
   ]
  },
  {
   "cell_type": "markdown",
   "metadata": {},
   "source": [
    "В данных кроме суточной есть недельная сезонность. Чтобы увидеть её нужно сделать ресемплинг данных по суткам и вновь сделать декомпозицию на сезонность и тренд. Дело в том, что seasonal_decompose настраивается на сезонность с самым маленьким циклом, при ресемпле данных по часу это сутки, при ресемпле по суткам это неделя."
   ]
  },
  {
   "cell_type": "code",
   "execution_count": 16,
   "metadata": {},
   "outputs": [
    {
     "data": {
      "image/png": "[encoded data removed]",
      "text/plain": [
       "<Figure size 864x432 with 1 Axes>"
      ]
     },
     "metadata": {
      "needs_background": "light"
     },
     "output_type": "display_data"
    }
   ],
   "source": [
    "decomposed = sm.tsa.seasonal_decompose(taxi_df['num_orders'])\n",
    "\n",
    "plt.figure(figsize=(12, 6))\n",
    "decomposed.seasonal['2018-08-20':'2018-08-21'].plot()\n",
    "plt.title('Сезонная составляющая в течение суток')\n",
    "plt.xlabel('Время суток')\n",
    "plt.ylabel('Количество заказов')\n",
    "plt.show()"
   ]
  },
  {
   "cell_type": "markdown",
   "metadata": {},
   "source": [
    "Этот код позволяет проанализировать сезонность в течение одних суток и определить, в какие часы наблюдаются пики и спады заказов.Я взяла дату с максимальным количеством заказов. Наблюдается пик заказов в ночное время час-два ночи и спад заказов утром в шесть утра."
   ]
  },
  {
   "cell_type": "code",
   "execution_count": 17,
   "metadata": {},
   "outputs": [
    {
     "data": {
      "image/png": "[encoded data removed]",
      "text/plain": [
       "<Figure size 720x432 with 1 Axes>"
      ]
     },
     "metadata": {
      "needs_background": "light"
     },
     "output_type": "display_data"
    }
   ],
   "source": [
    "# Создаем DataFrame с данными по дням недели и суммарным количеством заказов\n",
    "daily_data = taxi_df.resample('D').sum()\n",
    "daily_data['day_of_week'] = daily_data.index.day_name()\n",
    "\n",
    "# Группируем данные по дням недели и считаем сумму заказов для каждого дня\n",
    "daily_data = daily_data.groupby('day_of_week')['num_orders'].sum()\n",
    "\n",
    "# Сортируем дни недели в нужном порядке (понедельник, вторник, и т.д.)\n",
    "daily_data = daily_data.reindex(['Monday', 'Tuesday', 'Wednesday', 'Thursday', 'Friday', 'Saturday', 'Sunday'])\n",
    "\n",
    "# Строим график\n",
    "plt.figure(figsize=(10, 6))\n",
    "daily_data.plot(kind='bar')\n",
    "plt.title('Суммарное количество заказов по дням недели')\n",
    "plt.xlabel('День недели')\n",
    "plt.ylabel('Суммарное количество заказов')\n",
    "plt.show()"
   ]
  },
  {
   "cell_type": "markdown",
   "metadata": {},
   "source": [
    "- Тренд в данных всегда направлен вверх, это может указывать на общий рост количества заказов такси с течением времени. Это может быть положительным знаком для бизнеса, что спрос на такси увеличивается.\n",
    "\n",
    "- Сезонный график представляет собой монотонно закрашенный квадрат, это может указывать на отсутствие ярко выраженных сезонных паттернов. Это связано с тем, что данные ограничены по времени (данные только за полгода).\n",
    "\n",
    "- Аналогично,сезонная компонента также монотонная, это может указывать на отсутствие сильных сезонных колебаний в данных.\n",
    "\n",
    "- График остатков (Residuals) показывает высокие колебания (скачок) в августе месяце, это может быть признаком аномалии или  может быть связано с временными событиями, праздниками, метеорологическими условиями или другими факторами, которые могли повлиять на спрос на такси."
   ]
  },
  {
   "cell_type": "markdown",
   "metadata": {},
   "source": [
    "На основе суммарного количества заказов по дням недели, можно сделать следующие выводы:\n",
    "\n",
    "Пятница (Friday) имеет самое большое суммарное количество заказов. Это может быть связано с тем, что в пятницу чаще всего происходят пиковые перелеты, а также с началом выходных для многих пассажиров, которые могут заказывать такси для поездок.\n",
    "\n",
    "Следующие по количеству заказов дни недели: понедельник (Monday), суббота (Saturday), и воскресенье (Sunday). Понедельник может быть популярным днем для заказов, так как многие пассажиры возвращаются домой после выходных. Суббота и воскресенье также могут быть активными днями из-за пиковых перелетов и активных пассажиров в эти выходные дни.\n",
    "\n",
    "Вторник (Tuesday) и среда (Wednesday) имеют самое низкое суммарное количество заказов. Это может быть связано с тем, что это рабочие дни, и спрос на такси может быть ниже по сравнению с выходными и пятницей.\n",
    "\n",
    "Количество заказов такси имеет ярко выраженную недельную сезонность, с пиками в пятницу и более активными выходными днями."
   ]
  },
  {
   "cell_type": "markdown",
   "metadata": {},
   "source": [
    "## Обучение"
   ]
  },
  {
   "cell_type": "markdown",
   "metadata": {},
   "source": [
    "### Создание признаков."
   ]
  },
  {
   "cell_type": "markdown",
   "metadata": {},
   "source": [
    "Для обучения моделей нам потребуются признаки. Мы можем создать следующие признаки:\n",
    "- Заказы за предыдущие часы.\n",
    "- День недели и час дня."
   ]
  },
  {
   "cell_type": "code",
   "execution_count": 18,
   "metadata": {},
   "outputs": [],
   "source": [
    "taxi_df['hour'] = taxi_df.index.hour\n",
    "taxi_df['day_of_week'] = taxi_df.index.dayofweek\n",
    "\n",
    "for i in range(1, 6):\n",
    "    taxi_df[f'lag_{i}'] = taxi_df['num_orders'].shift(i)\n",
    "\n",
    "taxi_df = taxi_df.dropna()"
   ]
  },
  {
   "cell_type": "code",
   "execution_count": 19,
   "metadata": {},
   "outputs": [],
   "source": [
    "# Добавим признак часа\n",
    "taxi_df['hour'] = taxi_df.index.hour\n",
    "# Добавим скользящее среднее для разных временных окон\n",
    "for window_size in [24, 168]:  # Используем значения, кратные суткам и неделе\n",
    "    taxi_df[f'mean_orders_{window_size}h'] = taxi_df['num_orders'].rolling(window=window_size).mean()\n",
    "    \n",
    "# Удалим строки с пропущенными значениями, возникшими из-за скользящего среднего\n",
    "taxi_df = taxi_df.dropna()"
   ]
  },
  {
   "cell_type": "markdown",
   "metadata": {},
   "source": [
    "Использование гиперпараметров max_lag и rolling_mean_size равными 24 (сутки) и 168 (неделя) является хорошей стратегией, так как есть суточная и недельная сезонности в данных.\n",
    "\n",
    "Эти значения позволяют модели учитывать суточные и недельные закономерности при прогнозировании. Они могут значительно улучшить качество предсказаний."
   ]
  },
  {
   "cell_type": "code",
   "execution_count": 20,
   "metadata": {},
   "outputs": [
    {
     "data": {
      "text/html": [
       "<div>\n",
       "<style scoped>\n",
       "    .dataframe tbody tr th:only-of-type {\n",
       "        vertical-align: middle;\n",
       "    }\n",
       "\n",
       "    .dataframe tbody tr th {\n",
       "        vertical-align: top;\n",
       "    }\n",
       "\n",
       "    .dataframe thead th {\n",
       "        text-align: right;\n",
       "    }\n",
       "</style>\n",
       "<table border=\"1\" class=\"dataframe\">\n",
       "  <thead>\n",
       "    <tr style=\"text-align: right;\">\n",
       "      <th></th>\n",
       "      <th>num_orders</th>\n",
       "      <th>hour</th>\n",
       "      <th>day_of_week</th>\n",
       "      <th>lag_1</th>\n",
       "      <th>lag_2</th>\n",
       "      <th>lag_3</th>\n",
       "      <th>lag_4</th>\n",
       "      <th>lag_5</th>\n",
       "      <th>mean_orders_24h</th>\n",
       "      <th>mean_orders_168h</th>\n",
       "    </tr>\n",
       "    <tr>\n",
       "      <th>datetime</th>\n",
       "      <th></th>\n",
       "      <th></th>\n",
       "      <th></th>\n",
       "      <th></th>\n",
       "      <th></th>\n",
       "      <th></th>\n",
       "      <th></th>\n",
       "      <th></th>\n",
       "      <th></th>\n",
       "      <th></th>\n",
       "    </tr>\n",
       "  </thead>\n",
       "  <tbody>\n",
       "    <tr>\n",
       "      <th>2018-03-08 04:00:00</th>\n",
       "      <td>60</td>\n",
       "      <td>4</td>\n",
       "      <td>3</td>\n",
       "      <td>68.0</td>\n",
       "      <td>65.0</td>\n",
       "      <td>78.0</td>\n",
       "      <td>143.0</td>\n",
       "      <td>94.0</td>\n",
       "      <td>61.291667</td>\n",
       "      <td>54.375000</td>\n",
       "    </tr>\n",
       "    <tr>\n",
       "      <th>2018-03-08 05:00:00</th>\n",
       "      <td>6</td>\n",
       "      <td>5</td>\n",
       "      <td>3</td>\n",
       "      <td>60.0</td>\n",
       "      <td>68.0</td>\n",
       "      <td>65.0</td>\n",
       "      <td>78.0</td>\n",
       "      <td>143.0</td>\n",
       "      <td>61.125000</td>\n",
       "      <td>54.375000</td>\n",
       "    </tr>\n",
       "    <tr>\n",
       "      <th>2018-03-08 06:00:00</th>\n",
       "      <td>6</td>\n",
       "      <td>6</td>\n",
       "      <td>3</td>\n",
       "      <td>6.0</td>\n",
       "      <td>60.0</td>\n",
       "      <td>68.0</td>\n",
       "      <td>65.0</td>\n",
       "      <td>78.0</td>\n",
       "      <td>60.583333</td>\n",
       "      <td>54.339286</td>\n",
       "    </tr>\n",
       "    <tr>\n",
       "      <th>2018-03-08 07:00:00</th>\n",
       "      <td>19</td>\n",
       "      <td>7</td>\n",
       "      <td>3</td>\n",
       "      <td>6.0</td>\n",
       "      <td>6.0</td>\n",
       "      <td>60.0</td>\n",
       "      <td>68.0</td>\n",
       "      <td>65.0</td>\n",
       "      <td>60.666667</td>\n",
       "      <td>54.363095</td>\n",
       "    </tr>\n",
       "    <tr>\n",
       "      <th>2018-03-08 08:00:00</th>\n",
       "      <td>77</td>\n",
       "      <td>8</td>\n",
       "      <td>3</td>\n",
       "      <td>19.0</td>\n",
       "      <td>6.0</td>\n",
       "      <td>6.0</td>\n",
       "      <td>60.0</td>\n",
       "      <td>68.0</td>\n",
       "      <td>62.291667</td>\n",
       "      <td>54.619048</td>\n",
       "    </tr>\n",
       "  </tbody>\n",
       "</table>\n",
       "</div>"
      ],
      "text/plain": [
       "                     num_orders  hour  day_of_week  lag_1  lag_2  lag_3  \\\n",
       "datetime                                                                  \n",
       "2018-03-08 04:00:00          60     4            3   68.0   65.0   78.0   \n",
       "2018-03-08 05:00:00           6     5            3   60.0   68.0   65.0   \n",
       "2018-03-08 06:00:00           6     6            3    6.0   60.0   68.0   \n",
       "2018-03-08 07:00:00          19     7            3    6.0    6.0   60.0   \n",
       "2018-03-08 08:00:00          77     8            3   19.0    6.0    6.0   \n",
       "\n",
       "                     lag_4  lag_5  mean_orders_24h  mean_orders_168h  \n",
       "datetime                                                              \n",
       "2018-03-08 04:00:00  143.0   94.0        61.291667         54.375000  \n",
       "2018-03-08 05:00:00   78.0  143.0        61.125000         54.375000  \n",
       "2018-03-08 06:00:00   65.0   78.0        60.583333         54.339286  \n",
       "2018-03-08 07:00:00   68.0   65.0        60.666667         54.363095  \n",
       "2018-03-08 08:00:00   60.0   68.0        62.291667         54.619048  "
      ]
     },
     "execution_count": 20,
     "metadata": {},
     "output_type": "execute_result"
    }
   ],
   "source": [
    "taxi_df.head()"
   ]
  },
  {
   "cell_type": "markdown",
   "metadata": {},
   "source": [
    "### Разделение данных на обучающую и тестовую выборки."
   ]
  },
  {
   "cell_type": "markdown",
   "metadata": {},
   "source": [
    "Разделим данные на обучающую (90%) и тестовую (10%) выборки. Мы будем использовать тестовую выборку для оценки качества модели."
   ]
  },
  {
   "cell_type": "code",
   "execution_count": 21,
   "metadata": {},
   "outputs": [
    {
     "name": "stdout",
     "output_type": "stream",
     "text": [
      "2018-03-08 04:00:00 2018-08-14 06:00:00\n",
      "2018-08-14 07:00:00 2018-08-31 23:00:00\n"
     ]
    }
   ],
   "source": [
    "features = taxi_df.drop('num_orders', axis=1)\n",
    "target = taxi_df['num_orders'] \n",
    "\n",
    "features_train, features_test, target_train, target_test = train_test_split(features, target, shuffle=False, test_size=0.1)\n",
    "\n",
    "print(features_train.index.min(), features_train.index.max())\n",
    "print(features_test.index.min(), features_test.index.max())"
   ]
  },
  {
   "cell_type": "markdown",
   "metadata": {},
   "source": [
    "Обучающая выборка включает данные с 2018-03-01 05:00:00 по 2018-08-13 13:00:00.\n",
    "Тестовая выборка включает данные с 2018-08-13 14:00:00 по 2018-08-31 23:00:00.\n",
    "Это корректное разделение, которое сохраняет временной порядок данных и позволяет использовать более ранние данные для обучения и более поздние данные для тестирования, что важно в задачах прогнозирования временных рядов."
   ]
  },
  {
   "cell_type": "markdown",
   "metadata": {},
   "source": [
    "### Обучим разные модели с различными гиперпараметрами."
   ]
  },
  {
   "cell_type": "code",
   "execution_count": 23,
   "metadata": {},
   "outputs": [],
   "source": [
    "def neg_root_mean_squared_error(y_true, y_pred):\n",
    "    mse = mean_squared_error(y_true, y_pred)\n",
    "    rmse = np.sqrt(mse)\n",
    "    return -rmse\n",
    "\n",
    "neg_rmse_scorer = make_scorer(neg_root_mean_squared_error, greater_is_better=False)"
   ]
  },
  {
   "cell_type": "code",
   "execution_count": 24,
   "metadata": {},
   "outputs": [
    {
     "name": "stdout",
     "output_type": "stream",
     "text": [
      "Лучшие гиперпараметры: {'max_depth': 10, 'n_estimators': 250}\n",
      "Лучшее значение neg_rmse_scorer для случайного леса: 27.116252009341803\n"
     ]
    }
   ],
   "source": [
    "param_grid_rf = {\n",
    "    'n_estimators': [150, 200, 250],\n",
    "    'max_depth': [10, 15, 20]\n",
    "}\n",
    "\n",
    "rf = RandomForestRegressor()\n",
    "\n",
    "tscv = TimeSeriesSplit(n_splits=3)\n",
    "\n",
    "grid_search_rf = GridSearchCV(estimator=rf, param_grid=param_grid_rf, cv=tscv, scoring=neg_rmse_scorer)\n",
    "\n",
    "grid_search_rf.fit(features_train, target_train)\n",
    "\n",
    "best_params_rf = grid_search_rf.best_params_\n",
    "print(\"Лучшие гиперпараметры:\", best_params_rf)\n",
    "best_score_rf = grid_search_rf.best_score_\n",
    "print(\"Лучшее значение neg_rmse_scorer для случайного леса:\", best_score_rf)"
   ]
  },
  {
   "cell_type": "code",
   "execution_count": 26,
   "metadata": {},
   "outputs": [
    {
     "name": "stdout",
     "output_type": "stream",
     "text": [
      "Лучшие гиперпараметры для Lasso: {'alpha': 1.0}\n",
      "Лучшее значение neg_rmse_scorer для Lasso: 32.32812530718568\n"
     ]
    }
   ],
   "source": [
    "param_grid_lasso = {\n",
    "    'alpha': [0.01, 0.1, 1.0]\n",
    "}\n",
    "\n",
    "lasso = Lasso()\n",
    "\n",
    "grid_search_lasso = GridSearchCV(estimator=lasso, param_grid=param_grid_lasso, cv=tscv, scoring=neg_rmse_scorer)\n",
    "\n",
    "grid_search_lasso.fit(features_train, target_train)\n",
    "\n",
    "best_params_lasso = grid_search_lasso.best_params_\n",
    "print(\"Лучшие гиперпараметры для Lasso:\", best_params_lasso)\n",
    "best_score_lasso = grid_search_lasso.best_score_\n",
    "print(\"Лучшее значение neg_rmse_scorer для Lasso:\", best_score_lasso)"
   ]
  },
  {
   "cell_type": "code",
   "execution_count": 28,
   "metadata": {},
   "outputs": [
    {
     "name": "stdout",
     "output_type": "stream",
     "text": [
      "Learning rate set to 0.464409\n",
      "0:\tlearn: 24.3058051\ttotal: 61.9ms\tremaining: 3.03s\n",
      "1:\tlearn: 21.9247809\ttotal: 74.6ms\tremaining: 1.79s\n",
      "2:\tlearn: 19.7980651\ttotal: 87.2ms\tremaining: 1.36s\n",
      "3:\tlearn: 18.0010591\ttotal: 99.5ms\tremaining: 1.14s\n",
      "4:\tlearn: 16.4769481\ttotal: 112ms\tremaining: 1s\n",
      "5:\tlearn: 15.3438257\ttotal: 124ms\tremaining: 909ms\n",
      "6:\tlearn: 14.4905140\ttotal: 136ms\tremaining: 837ms\n",
      "7:\tlearn: 13.9059027\ttotal: 149ms\tremaining: 781ms\n",
      "8:\tlearn: 13.3304278\ttotal: 161ms\tremaining: 734ms\n",
      "9:\tlearn: 12.8449086\ttotal: 173ms\tremaining: 691ms\n",
      "10:\tlearn: 12.3193542\ttotal: 187ms\tremaining: 664ms\n",
      "11:\tlearn: 11.9371061\ttotal: 203ms\tremaining: 643ms\n",
      "12:\tlearn: 11.7119403\ttotal: 218ms\tremaining: 621ms\n",
      "13:\tlearn: 11.4201922\ttotal: 233ms\tremaining: 600ms\n",
      "14:\tlearn: 11.1485792\ttotal: 249ms\tremaining: 580ms\n",
      "15:\tlearn: 10.8069930\ttotal: 266ms\tremaining: 565ms\n",
      "16:\tlearn: 10.5312883\ttotal: 281ms\tremaining: 546ms\n",
      "17:\tlearn: 10.2418584\ttotal: 297ms\tremaining: 528ms\n",
      "18:\tlearn: 9.9171680\ttotal: 316ms\tremaining: 515ms\n",
      "19:\tlearn: 9.4813952\ttotal: 333ms\tremaining: 499ms\n",
      "20:\tlearn: 9.3882326\ttotal: 347ms\tremaining: 480ms\n",
      "21:\tlearn: 9.1933502\ttotal: 363ms\tremaining: 462ms\n",
      "22:\tlearn: 9.1079391\ttotal: 380ms\tremaining: 446ms\n",
      "23:\tlearn: 8.6867252\ttotal: 395ms\tremaining: 428ms\n",
      "24:\tlearn: 8.6617820\ttotal: 411ms\tremaining: 411ms\n",
      "25:\tlearn: 8.2910321\ttotal: 423ms\tremaining: 390ms\n",
      "26:\tlearn: 8.1447644\ttotal: 436ms\tremaining: 371ms\n",
      "27:\tlearn: 8.0094964\ttotal: 449ms\tremaining: 352ms\n",
      "28:\tlearn: 7.7520199\ttotal: 462ms\tremaining: 335ms\n",
      "29:\tlearn: 7.4332509\ttotal: 474ms\tremaining: 316ms\n",
      "30:\tlearn: 7.1823216\ttotal: 487ms\tremaining: 298ms\n",
      "31:\tlearn: 7.1671966\ttotal: 499ms\tremaining: 281ms\n",
      "32:\tlearn: 6.7858459\ttotal: 511ms\tremaining: 263ms\n",
      "33:\tlearn: 6.7357677\ttotal: 524ms\tremaining: 247ms\n",
      "34:\tlearn: 6.5074320\ttotal: 536ms\tremaining: 230ms\n",
      "35:\tlearn: 6.2466248\ttotal: 549ms\tremaining: 214ms\n",
      "36:\tlearn: 6.0027520\ttotal: 562ms\tremaining: 197ms\n",
      "37:\tlearn: 5.8594069\ttotal: 574ms\tremaining: 181ms\n",
      "38:\tlearn: 5.6334982\ttotal: 587ms\tremaining: 166ms\n",
      "39:\tlearn: 5.4573358\ttotal: 600ms\tremaining: 150ms\n",
      "40:\tlearn: 5.4038550\ttotal: 607ms\tremaining: 133ms\n",
      "41:\tlearn: 5.2580558\ttotal: 619ms\tremaining: 118ms\n",
      "42:\tlearn: 5.1623667\ttotal: 631ms\tremaining: 103ms\n",
      "43:\tlearn: 5.1411172\ttotal: 644ms\tremaining: 87.8ms\n",
      "44:\tlearn: 5.1354839\ttotal: 657ms\tremaining: 73ms\n",
      "45:\tlearn: 4.9303934\ttotal: 669ms\tremaining: 58.2ms\n",
      "46:\tlearn: 4.7389595\ttotal: 682ms\tremaining: 43.5ms\n",
      "47:\tlearn: 4.5900917\ttotal: 697ms\tremaining: 29ms\n",
      "48:\tlearn: 4.5750705\ttotal: 709ms\tremaining: 14.5ms\n",
      "49:\tlearn: 4.3621190\ttotal: 723ms\tremaining: 0us\n",
      "Learning rate set to 0.5\n",
      "0:\tlearn: 26.6335144\ttotal: 15.6ms\tremaining: 764ms\n",
      "1:\tlearn: 22.6839666\ttotal: 29.6ms\tremaining: 710ms\n",
      "2:\tlearn: 20.7122481\ttotal: 43.4ms\tremaining: 680ms\n",
      "3:\tlearn: 20.1085441\ttotal: 45ms\tremaining: 518ms\n",
      "4:\tlearn: 19.2807217\ttotal: 59.3ms\tremaining: 533ms\n",
      "5:\tlearn: 18.0792887\ttotal: 73.2ms\tremaining: 537ms\n",
      "6:\tlearn: 17.4033615\ttotal: 87.4ms\tremaining: 537ms\n",
      "7:\tlearn: 16.7866997\ttotal: 102ms\tremaining: 535ms\n",
      "8:\tlearn: 16.2955615\ttotal: 116ms\tremaining: 528ms\n",
      "9:\tlearn: 15.6950961\ttotal: 130ms\tremaining: 519ms\n",
      "10:\tlearn: 15.0312542\ttotal: 144ms\tremaining: 512ms\n",
      "11:\tlearn: 14.6701404\ttotal: 159ms\tremaining: 503ms\n",
      "12:\tlearn: 14.2884971\ttotal: 173ms\tremaining: 494ms\n",
      "13:\tlearn: 13.8689666\ttotal: 188ms\tremaining: 483ms\n",
      "14:\tlearn: 13.5896432\ttotal: 202ms\tremaining: 472ms\n",
      "15:\tlearn: 13.2743486\ttotal: 218ms\tremaining: 463ms\n",
      "16:\tlearn: 12.8868259\ttotal: 232ms\tremaining: 450ms\n",
      "17:\tlearn: 12.5790590\ttotal: 246ms\tremaining: 437ms\n",
      "18:\tlearn: 12.2276624\ttotal: 260ms\tremaining: 424ms\n",
      "19:\tlearn: 12.0240416\ttotal: 274ms\tremaining: 412ms\n",
      "20:\tlearn: 11.7951142\ttotal: 289ms\tremaining: 400ms\n",
      "21:\tlearn: 11.6975317\ttotal: 304ms\tremaining: 386ms\n",
      "22:\tlearn: 11.2796470\ttotal: 318ms\tremaining: 373ms\n",
      "23:\tlearn: 11.0291222\ttotal: 332ms\tremaining: 359ms\n",
      "24:\tlearn: 10.9883156\ttotal: 346ms\tremaining: 346ms\n",
      "25:\tlearn: 10.9115872\ttotal: 360ms\tremaining: 332ms\n",
      "26:\tlearn: 10.4687909\ttotal: 374ms\tremaining: 319ms\n",
      "27:\tlearn: 10.1445409\ttotal: 389ms\tremaining: 305ms\n",
      "28:\tlearn: 10.0625317\ttotal: 403ms\tremaining: 292ms\n",
      "29:\tlearn: 9.7215591\ttotal: 422ms\tremaining: 281ms\n",
      "30:\tlearn: 9.6006473\ttotal: 437ms\tremaining: 268ms\n",
      "31:\tlearn: 9.3302985\ttotal: 459ms\tremaining: 258ms\n",
      "32:\tlearn: 9.0371806\ttotal: 473ms\tremaining: 244ms\n",
      "33:\tlearn: 8.6362619\ttotal: 487ms\tremaining: 229ms\n",
      "34:\tlearn: 8.3374960\ttotal: 503ms\tremaining: 216ms\n",
      "35:\tlearn: 8.1035970\ttotal: 517ms\tremaining: 201ms\n",
      "36:\tlearn: 7.9342843\ttotal: 531ms\tremaining: 187ms\n",
      "37:\tlearn: 7.7226772\ttotal: 545ms\tremaining: 172ms\n",
      "38:\tlearn: 7.6859940\ttotal: 560ms\tremaining: 158ms\n",
      "39:\tlearn: 7.5019565\ttotal: 574ms\tremaining: 144ms\n",
      "40:\tlearn: 7.3115245\ttotal: 590ms\tremaining: 130ms\n",
      "41:\tlearn: 7.1904494\ttotal: 606ms\tremaining: 115ms\n",
      "42:\tlearn: 7.1839885\ttotal: 620ms\tremaining: 101ms\n",
      "43:\tlearn: 7.0434450\ttotal: 635ms\tremaining: 86.5ms\n",
      "44:\tlearn: 6.9831910\ttotal: 649ms\tremaining: 72.1ms\n",
      "45:\tlearn: 6.9689611\ttotal: 662ms\tremaining: 57.6ms\n",
      "46:\tlearn: 6.7498659\ttotal: 676ms\tremaining: 43.2ms\n",
      "47:\tlearn: 6.4926251\ttotal: 692ms\tremaining: 28.8ms\n",
      "48:\tlearn: 6.4893442\ttotal: 707ms\tremaining: 14.4ms\n",
      "49:\tlearn: 6.2369471\ttotal: 722ms\tremaining: 0us\n",
      "Learning rate set to 0.5\n",
      "0:\tlearn: 26.6601344\ttotal: 15.6ms\tremaining: 767ms\n",
      "1:\tlearn: 24.2633304\ttotal: 30.9ms\tremaining: 742ms\n",
      "2:\tlearn: 21.9669555\ttotal: 45.2ms\tremaining: 708ms\n",
      "3:\tlearn: 20.6526259\ttotal: 59.4ms\tremaining: 684ms\n",
      "4:\tlearn: 19.4638230\ttotal: 74ms\tremaining: 666ms\n",
      "5:\tlearn: 18.7873065\ttotal: 88.8ms\tremaining: 651ms\n",
      "6:\tlearn: 18.1353663\ttotal: 104ms\tremaining: 639ms\n",
      "7:\tlearn: 17.6997023\ttotal: 119ms\tremaining: 627ms\n",
      "8:\tlearn: 17.3812497\ttotal: 134ms\tremaining: 613ms\n",
      "9:\tlearn: 17.0715329\ttotal: 149ms\tremaining: 595ms\n",
      "10:\tlearn: 16.7548462\ttotal: 164ms\tremaining: 580ms\n",
      "11:\tlearn: 16.1938246\ttotal: 178ms\tremaining: 563ms\n",
      "12:\tlearn: 15.9051837\ttotal: 194ms\tremaining: 553ms\n",
      "13:\tlearn: 15.6434184\ttotal: 209ms\tremaining: 537ms\n",
      "14:\tlearn: 15.3863501\ttotal: 224ms\tremaining: 522ms\n",
      "15:\tlearn: 15.0630152\ttotal: 238ms\tremaining: 506ms\n",
      "16:\tlearn: 14.8393240\ttotal: 252ms\tremaining: 490ms\n",
      "17:\tlearn: 14.6670831\ttotal: 266ms\tremaining: 473ms\n",
      "18:\tlearn: 14.5950490\ttotal: 271ms\tremaining: 442ms\n",
      "19:\tlearn: 14.2147773\ttotal: 287ms\tremaining: 430ms\n",
      "20:\tlearn: 13.9027508\ttotal: 302ms\tremaining: 416ms\n",
      "21:\tlearn: 13.5974582\ttotal: 316ms\tremaining: 402ms\n",
      "22:\tlearn: 13.4745568\ttotal: 330ms\tremaining: 387ms\n",
      "23:\tlearn: 13.1973886\ttotal: 345ms\tremaining: 374ms\n",
      "24:\tlearn: 13.0485529\ttotal: 360ms\tremaining: 360ms\n",
      "25:\tlearn: 12.8809676\ttotal: 375ms\tremaining: 346ms\n",
      "26:\tlearn: 12.6684178\ttotal: 390ms\tremaining: 333ms\n",
      "27:\tlearn: 12.5765867\ttotal: 407ms\tremaining: 320ms\n",
      "28:\tlearn: 12.1623226\ttotal: 423ms\tremaining: 307ms\n",
      "29:\tlearn: 12.0663693\ttotal: 439ms\tremaining: 292ms\n",
      "30:\tlearn: 11.7148767\ttotal: 454ms\tremaining: 278ms\n",
      "31:\tlearn: 11.3765128\ttotal: 469ms\tremaining: 264ms\n",
      "32:\tlearn: 11.3503515\ttotal: 485ms\tremaining: 250ms\n",
      "33:\tlearn: 11.3329951\ttotal: 501ms\tremaining: 236ms\n",
      "34:\tlearn: 11.2008730\ttotal: 516ms\tremaining: 221ms\n",
      "35:\tlearn: 10.9076336\ttotal: 531ms\tremaining: 207ms\n",
      "36:\tlearn: 10.7413499\ttotal: 546ms\tremaining: 192ms\n",
      "37:\tlearn: 10.6111250\ttotal: 560ms\tremaining: 177ms\n",
      "38:\tlearn: 10.4146008\ttotal: 576ms\tremaining: 162ms\n",
      "39:\tlearn: 10.0857391\ttotal: 592ms\tremaining: 148ms\n",
      "40:\tlearn: 9.7445180\ttotal: 614ms\tremaining: 135ms\n",
      "41:\tlearn: 9.6286063\ttotal: 631ms\tremaining: 120ms\n",
      "42:\tlearn: 9.5960996\ttotal: 645ms\tremaining: 105ms\n",
      "43:\tlearn: 9.3717277\ttotal: 659ms\tremaining: 89.9ms\n",
      "44:\tlearn: 9.2509964\ttotal: 674ms\tremaining: 74.9ms\n",
      "45:\tlearn: 9.1341966\ttotal: 689ms\tremaining: 59.9ms\n",
      "46:\tlearn: 9.0560381\ttotal: 703ms\tremaining: 44.9ms\n",
      "47:\tlearn: 8.9357683\ttotal: 717ms\tremaining: 29.9ms\n",
      "48:\tlearn: 8.7130193\ttotal: 732ms\tremaining: 14.9ms\n",
      "49:\tlearn: 8.5998089\ttotal: 746ms\tremaining: 0us\n",
      "Learning rate set to 0.26434\n",
      "0:\tlearn: 26.3862697\ttotal: 13.4ms\tremaining: 1.33s\n",
      "1:\tlearn: 24.6616621\ttotal: 26.4ms\tremaining: 1.29s\n",
      "2:\tlearn: 22.7829864\ttotal: 39ms\tremaining: 1.26s\n",
      "3:\tlearn: 21.2921611\ttotal: 51.9ms\tremaining: 1.25s\n",
      "4:\tlearn: 19.9636632\ttotal: 64ms\tremaining: 1.22s\n",
      "5:\tlearn: 18.6799133\ttotal: 76.6ms\tremaining: 1.2s\n",
      "6:\tlearn: 17.9931562\ttotal: 89.3ms\tremaining: 1.19s\n",
      "7:\tlearn: 17.2156680\ttotal: 102ms\tremaining: 1.18s\n",
      "8:\tlearn: 16.5570250\ttotal: 115ms\tremaining: 1.17s\n",
      "9:\tlearn: 15.9402182\ttotal: 128ms\tremaining: 1.15s\n",
      "10:\tlearn: 15.3883071\ttotal: 141ms\tremaining: 1.14s\n",
      "11:\tlearn: 14.9449466\ttotal: 153ms\tremaining: 1.12s\n",
      "12:\tlearn: 14.5730669\ttotal: 165ms\tremaining: 1.1s\n",
      "13:\tlearn: 14.0554764\ttotal: 178ms\tremaining: 1.09s\n",
      "14:\tlearn: 13.6461496\ttotal: 191ms\tremaining: 1.08s\n",
      "15:\tlearn: 13.2564614\ttotal: 203ms\tremaining: 1.06s\n",
      "16:\tlearn: 12.9820936\ttotal: 215ms\tremaining: 1.05s\n",
      "17:\tlearn: 12.7338705\ttotal: 228ms\tremaining: 1.04s\n",
      "18:\tlearn: 12.5360868\ttotal: 240ms\tremaining: 1.02s\n",
      "19:\tlearn: 12.2911740\ttotal: 253ms\tremaining: 1.01s\n",
      "20:\tlearn: 12.1284734\ttotal: 265ms\tremaining: 997ms\n",
      "21:\tlearn: 11.9763557\ttotal: 280ms\tremaining: 993ms\n",
      "22:\tlearn: 11.8208545\ttotal: 294ms\tremaining: 985ms\n",
      "23:\tlearn: 11.6335835\ttotal: 307ms\tremaining: 971ms\n",
      "24:\tlearn: 11.4363357\ttotal: 319ms\tremaining: 956ms\n",
      "25:\tlearn: 11.1207168\ttotal: 331ms\tremaining: 943ms\n",
      "26:\tlearn: 10.8748059\ttotal: 344ms\tremaining: 929ms\n",
      "27:\tlearn: 10.6276410\ttotal: 356ms\tremaining: 915ms\n",
      "28:\tlearn: 10.3758045\ttotal: 368ms\tremaining: 901ms\n",
      "29:\tlearn: 10.2519097\ttotal: 381ms\tremaining: 889ms\n",
      "30:\tlearn: 9.9592325\ttotal: 393ms\tremaining: 876ms\n",
      "31:\tlearn: 9.7654972\ttotal: 406ms\tremaining: 862ms\n",
      "32:\tlearn: 9.6811191\ttotal: 418ms\tremaining: 848ms\n",
      "33:\tlearn: 9.3895299\ttotal: 431ms\tremaining: 836ms\n",
      "34:\tlearn: 9.3006111\ttotal: 443ms\tremaining: 823ms\n",
      "35:\tlearn: 9.2655376\ttotal: 456ms\tremaining: 811ms\n",
      "36:\tlearn: 9.1044783\ttotal: 469ms\tremaining: 798ms\n",
      "37:\tlearn: 8.8874547\ttotal: 484ms\tremaining: 790ms\n",
      "38:\tlearn: 8.8720307\ttotal: 497ms\tremaining: 777ms\n",
      "39:\tlearn: 8.6167556\ttotal: 510ms\tremaining: 764ms\n",
      "40:\tlearn: 8.5457376\ttotal: 522ms\tremaining: 752ms\n",
      "41:\tlearn: 8.4570402\ttotal: 535ms\tremaining: 739ms\n",
      "42:\tlearn: 8.4221342\ttotal: 549ms\tremaining: 728ms\n",
      "43:\tlearn: 8.3216767\ttotal: 561ms\tremaining: 714ms\n",
      "44:\tlearn: 8.1511532\ttotal: 574ms\tremaining: 701ms\n",
      "45:\tlearn: 7.8226026\ttotal: 586ms\tremaining: 688ms\n",
      "46:\tlearn: 7.7233793\ttotal: 599ms\tremaining: 675ms\n",
      "47:\tlearn: 7.5210053\ttotal: 611ms\tremaining: 662ms\n",
      "48:\tlearn: 7.4867749\ttotal: 624ms\tremaining: 649ms\n",
      "49:\tlearn: 7.2265690\ttotal: 636ms\tremaining: 636ms\n",
      "50:\tlearn: 7.1206948\ttotal: 642ms\tremaining: 617ms\n",
      "51:\tlearn: 7.0142996\ttotal: 654ms\tremaining: 604ms\n",
      "52:\tlearn: 6.8380263\ttotal: 666ms\tremaining: 591ms\n",
      "53:\tlearn: 6.7442217\ttotal: 678ms\tremaining: 578ms\n",
      "54:\tlearn: 6.6513374\ttotal: 690ms\tremaining: 565ms\n",
      "55:\tlearn: 6.4475916\ttotal: 703ms\tremaining: 552ms\n",
      "56:\tlearn: 6.4063893\ttotal: 716ms\tremaining: 540ms\n",
      "57:\tlearn: 6.2766413\ttotal: 728ms\tremaining: 527ms\n",
      "58:\tlearn: 6.2644935\ttotal: 740ms\tremaining: 514ms\n",
      "59:\tlearn: 6.2362886\ttotal: 752ms\tremaining: 502ms\n",
      "60:\tlearn: 6.1324238\ttotal: 764ms\tremaining: 489ms\n",
      "61:\tlearn: 5.9444081\ttotal: 777ms\tremaining: 476ms\n",
      "62:\tlearn: 5.9060760\ttotal: 789ms\tremaining: 463ms\n",
      "63:\tlearn: 5.6898164\ttotal: 801ms\tremaining: 451ms\n",
      "64:\tlearn: 5.5948048\ttotal: 813ms\tremaining: 438ms\n",
      "65:\tlearn: 5.4620221\ttotal: 826ms\tremaining: 425ms\n",
      "66:\tlearn: 5.3506662\ttotal: 838ms\tremaining: 413ms\n",
      "67:\tlearn: 5.3354252\ttotal: 850ms\tremaining: 400ms\n",
      "68:\tlearn: 5.2554935\ttotal: 862ms\tremaining: 387ms\n",
      "69:\tlearn: 5.2066090\ttotal: 874ms\tremaining: 375ms\n",
      "70:\tlearn: 5.1848941\ttotal: 886ms\tremaining: 362ms\n",
      "71:\tlearn: 5.0522190\ttotal: 899ms\tremaining: 350ms\n",
      "72:\tlearn: 4.9915381\ttotal: 912ms\tremaining: 337ms\n",
      "73:\tlearn: 4.9525788\ttotal: 924ms\tremaining: 325ms\n",
      "74:\tlearn: 4.8087832\ttotal: 937ms\tremaining: 312ms\n",
      "75:\tlearn: 4.7228434\ttotal: 949ms\tremaining: 300ms\n",
      "76:\tlearn: 4.6610890\ttotal: 962ms\tremaining: 287ms\n",
      "77:\tlearn: 4.5435834\ttotal: 975ms\tremaining: 275ms\n",
      "78:\tlearn: 4.5336469\ttotal: 988ms\tremaining: 263ms\n",
      "79:\tlearn: 4.4525980\ttotal: 1s\tremaining: 250ms\n",
      "80:\tlearn: 4.3183037\ttotal: 1.01s\tremaining: 238ms\n",
      "81:\tlearn: 4.2361404\ttotal: 1.03s\tremaining: 226ms\n",
      "82:\tlearn: 4.1554211\ttotal: 1.04s\tremaining: 213ms\n",
      "83:\tlearn: 4.1115297\ttotal: 1.05s\tremaining: 201ms\n",
      "84:\tlearn: 4.1069001\ttotal: 1.07s\tremaining: 188ms\n",
      "85:\tlearn: 4.0566180\ttotal: 1.08s\tremaining: 176ms\n",
      "86:\tlearn: 4.0056109\ttotal: 1.09s\tremaining: 163ms\n",
      "87:\tlearn: 3.9318918\ttotal: 1.11s\tremaining: 151ms\n",
      "88:\tlearn: 3.9107669\ttotal: 1.12s\tremaining: 138ms\n",
      "89:\tlearn: 3.8026471\ttotal: 1.13s\tremaining: 126ms\n",
      "90:\tlearn: 3.6992864\ttotal: 1.15s\tremaining: 113ms\n",
      "91:\tlearn: 3.6145614\ttotal: 1.16s\tremaining: 101ms\n",
      "92:\tlearn: 3.5675189\ttotal: 1.17s\tremaining: 88.2ms\n",
      "93:\tlearn: 3.4977574\ttotal: 1.19s\tremaining: 75.7ms\n",
      "94:\tlearn: 3.4117404\ttotal: 1.2s\tremaining: 63.1ms\n",
      "95:\tlearn: 3.3335934\ttotal: 1.21s\tremaining: 50.6ms\n",
      "96:\tlearn: 3.3141887\ttotal: 1.23s\tremaining: 38ms\n",
      "97:\tlearn: 3.2499637\ttotal: 1.24s\tremaining: 25.3ms\n",
      "98:\tlearn: 3.2317388\ttotal: 1.25s\tremaining: 12.7ms\n",
      "99:\tlearn: 3.1683346\ttotal: 1.27s\tremaining: 0us\n",
      "Learning rate set to 0.294862\n",
      "0:\tlearn: 28.9786790\ttotal: 15.6ms\tremaining: 1.54s\n",
      "1:\tlearn: 26.4445290\ttotal: 30.6ms\tremaining: 1.5s\n",
      "2:\tlearn: 24.1328815\ttotal: 44.9ms\tremaining: 1.45s\n",
      "3:\tlearn: 22.8041091\ttotal: 59.7ms\tremaining: 1.43s\n",
      "4:\tlearn: 21.5628408\ttotal: 74.4ms\tremaining: 1.41s\n",
      "5:\tlearn: 20.4918145\ttotal: 88.7ms\tremaining: 1.39s\n",
      "6:\tlearn: 19.8612448\ttotal: 103ms\tremaining: 1.37s\n",
      "7:\tlearn: 19.3503680\ttotal: 117ms\tremaining: 1.35s\n",
      "8:\tlearn: 18.5596032\ttotal: 131ms\tremaining: 1.33s\n",
      "9:\tlearn: 18.0761119\ttotal: 146ms\tremaining: 1.31s\n",
      "10:\tlearn: 17.5785684\ttotal: 161ms\tremaining: 1.3s\n",
      "11:\tlearn: 17.2387120\ttotal: 175ms\tremaining: 1.29s\n",
      "12:\tlearn: 16.8276283\ttotal: 190ms\tremaining: 1.27s\n",
      "13:\tlearn: 16.4166556\ttotal: 205ms\tremaining: 1.26s\n",
      "14:\tlearn: 16.1064896\ttotal: 220ms\tremaining: 1.25s\n",
      "15:\tlearn: 15.8373458\ttotal: 235ms\tremaining: 1.23s\n",
      "16:\tlearn: 15.5466995\ttotal: 249ms\tremaining: 1.22s\n",
      "17:\tlearn: 15.2905213\ttotal: 263ms\tremaining: 1.2s\n",
      "18:\tlearn: 15.0818867\ttotal: 277ms\tremaining: 1.18s\n",
      "19:\tlearn: 14.8895114\ttotal: 291ms\tremaining: 1.17s\n",
      "20:\tlearn: 14.6966337\ttotal: 306ms\tremaining: 1.15s\n",
      "21:\tlearn: 14.4486479\ttotal: 320ms\tremaining: 1.14s\n",
      "22:\tlearn: 14.1999549\ttotal: 338ms\tremaining: 1.13s\n",
      "23:\tlearn: 13.9954088\ttotal: 354ms\tremaining: 1.12s\n",
      "24:\tlearn: 13.7035591\ttotal: 369ms\tremaining: 1.1s\n",
      "25:\tlearn: 13.4786424\ttotal: 383ms\tremaining: 1.09s\n",
      "26:\tlearn: 13.3627579\ttotal: 398ms\tremaining: 1.08s\n",
      "27:\tlearn: 13.1255475\ttotal: 412ms\tremaining: 1.06s\n",
      "28:\tlearn: 12.9099571\ttotal: 427ms\tremaining: 1.04s\n",
      "29:\tlearn: 12.7943370\ttotal: 441ms\tremaining: 1.03s\n",
      "30:\tlearn: 12.6392787\ttotal: 455ms\tremaining: 1.01s\n",
      "31:\tlearn: 12.4064639\ttotal: 471ms\tremaining: 1s\n",
      "32:\tlearn: 12.3166767\ttotal: 485ms\tremaining: 985ms\n",
      "33:\tlearn: 12.0520210\ttotal: 503ms\tremaining: 976ms\n",
      "34:\tlearn: 11.9297914\ttotal: 517ms\tremaining: 960ms\n",
      "35:\tlearn: 11.6218721\ttotal: 531ms\tremaining: 944ms\n",
      "36:\tlearn: 11.4126429\ttotal: 546ms\tremaining: 929ms\n",
      "37:\tlearn: 11.1354849\ttotal: 560ms\tremaining: 913ms\n",
      "38:\tlearn: 11.0364623\ttotal: 574ms\tremaining: 898ms\n",
      "39:\tlearn: 10.8578492\ttotal: 589ms\tremaining: 883ms\n",
      "40:\tlearn: 10.7513017\ttotal: 602ms\tremaining: 867ms\n",
      "41:\tlearn: 10.7403049\ttotal: 610ms\tremaining: 843ms\n",
      "42:\tlearn: 10.6706714\ttotal: 624ms\tremaining: 827ms\n",
      "43:\tlearn: 10.4649988\ttotal: 638ms\tremaining: 812ms\n",
      "44:\tlearn: 10.4076242\ttotal: 653ms\tremaining: 798ms\n",
      "45:\tlearn: 10.2446465\ttotal: 667ms\tremaining: 783ms\n",
      "46:\tlearn: 10.0769521\ttotal: 681ms\tremaining: 768ms\n",
      "47:\tlearn: 9.9614278\ttotal: 699ms\tremaining: 757ms\n",
      "48:\tlearn: 9.7660285\ttotal: 713ms\tremaining: 742ms\n",
      "49:\tlearn: 9.6068511\ttotal: 728ms\tremaining: 728ms\n",
      "50:\tlearn: 9.3888944\ttotal: 744ms\tremaining: 715ms\n",
      "51:\tlearn: 9.1951209\ttotal: 758ms\tremaining: 700ms\n",
      "52:\tlearn: 9.0407576\ttotal: 772ms\tremaining: 685ms\n",
      "53:\tlearn: 8.9314726\ttotal: 787ms\tremaining: 670ms\n",
      "54:\tlearn: 8.7265012\ttotal: 802ms\tremaining: 656ms\n",
      "55:\tlearn: 8.5643808\ttotal: 816ms\tremaining: 641ms\n",
      "56:\tlearn: 8.5217273\ttotal: 831ms\tremaining: 627ms\n",
      "57:\tlearn: 8.4229145\ttotal: 845ms\tremaining: 612ms\n",
      "58:\tlearn: 8.2516424\ttotal: 860ms\tremaining: 598ms\n",
      "59:\tlearn: 8.0838058\ttotal: 875ms\tremaining: 583ms\n",
      "60:\tlearn: 8.0770473\ttotal: 892ms\tremaining: 571ms\n",
      "61:\tlearn: 7.9938742\ttotal: 906ms\tremaining: 555ms\n",
      "62:\tlearn: 7.7427557\ttotal: 920ms\tremaining: 541ms\n",
      "63:\tlearn: 7.6059391\ttotal: 934ms\tremaining: 525ms\n",
      "64:\tlearn: 7.4473827\ttotal: 948ms\tremaining: 511ms\n",
      "65:\tlearn: 7.3476823\ttotal: 962ms\tremaining: 496ms\n",
      "66:\tlearn: 7.2265589\ttotal: 976ms\tremaining: 481ms\n",
      "67:\tlearn: 7.1149676\ttotal: 990ms\tremaining: 466ms\n",
      "68:\tlearn: 6.9828476\ttotal: 1s\tremaining: 451ms\n",
      "69:\tlearn: 6.9647526\ttotal: 1.02s\tremaining: 436ms\n",
      "70:\tlearn: 6.8525580\ttotal: 1.03s\tremaining: 422ms\n",
      "71:\tlearn: 6.7282883\ttotal: 1.05s\tremaining: 407ms\n",
      "72:\tlearn: 6.6704501\ttotal: 1.06s\tremaining: 392ms\n",
      "73:\tlearn: 6.5545717\ttotal: 1.07s\tremaining: 378ms\n",
      "74:\tlearn: 6.5020666\ttotal: 1.09s\tremaining: 363ms\n",
      "75:\tlearn: 6.4866617\ttotal: 1.1s\tremaining: 348ms\n",
      "76:\tlearn: 6.4043833\ttotal: 1.12s\tremaining: 334ms\n",
      "77:\tlearn: 6.3297486\ttotal: 1.13s\tremaining: 319ms\n",
      "78:\tlearn: 6.2860064\ttotal: 1.15s\tremaining: 305ms\n",
      "79:\tlearn: 6.1950484\ttotal: 1.16s\tremaining: 290ms\n",
      "80:\tlearn: 6.1475971\ttotal: 1.18s\tremaining: 276ms\n",
      "81:\tlearn: 6.0779488\ttotal: 1.19s\tremaining: 262ms\n",
      "82:\tlearn: 5.9733540\ttotal: 1.21s\tremaining: 247ms\n",
      "83:\tlearn: 5.9277489\ttotal: 1.22s\tremaining: 233ms\n",
      "84:\tlearn: 5.8768374\ttotal: 1.24s\tremaining: 218ms\n",
      "85:\tlearn: 5.7584779\ttotal: 1.25s\tremaining: 204ms\n",
      "86:\tlearn: 5.6346280\ttotal: 1.26s\tremaining: 189ms\n",
      "87:\tlearn: 5.5956018\ttotal: 1.28s\tremaining: 174ms\n",
      "88:\tlearn: 5.5474728\ttotal: 1.29s\tremaining: 160ms\n",
      "89:\tlearn: 5.4661624\ttotal: 1.31s\tremaining: 145ms\n",
      "90:\tlearn: 5.3530597\ttotal: 1.32s\tremaining: 131ms\n",
      "91:\tlearn: 5.3260681\ttotal: 1.34s\tremaining: 116ms\n",
      "92:\tlearn: 5.2768027\ttotal: 1.35s\tremaining: 102ms\n",
      "93:\tlearn: 5.2216065\ttotal: 1.36s\tremaining: 87.2ms\n",
      "94:\tlearn: 5.1387729\ttotal: 1.38s\tremaining: 72.7ms\n",
      "95:\tlearn: 5.1363022\ttotal: 1.4s\tremaining: 58.1ms\n",
      "96:\tlearn: 5.0792606\ttotal: 1.41s\tremaining: 43.6ms\n",
      "97:\tlearn: 5.0618460\ttotal: 1.42s\tremaining: 29.1ms\n",
      "98:\tlearn: 5.0580902\ttotal: 1.44s\tremaining: 14.5ms\n",
      "99:\tlearn: 5.0533632\ttotal: 1.45s\tremaining: 0us\n",
      "Learning rate set to 0.314344\n",
      "0:\tlearn: 29.0625624\ttotal: 15.9ms\tremaining: 1.57s\n",
      "1:\tlearn: 26.5098687\ttotal: 30.8ms\tremaining: 1.51s\n",
      "2:\tlearn: 24.2541076\ttotal: 45.2ms\tremaining: 1.46s\n",
      "3:\tlearn: 22.9946231\ttotal: 60.9ms\tremaining: 1.46s\n",
      "4:\tlearn: 21.9455925\ttotal: 76.1ms\tremaining: 1.45s\n",
      "5:\tlearn: 20.9614952\ttotal: 91.6ms\tremaining: 1.44s\n",
      "6:\tlearn: 20.1686282\ttotal: 107ms\tremaining: 1.42s\n",
      "7:\tlearn: 19.7456301\ttotal: 122ms\tremaining: 1.4s\n",
      "8:\tlearn: 19.3886977\ttotal: 137ms\tremaining: 1.38s\n",
      "9:\tlearn: 19.0030519\ttotal: 151ms\tremaining: 1.36s\n",
      "10:\tlearn: 18.6732799\ttotal: 166ms\tremaining: 1.34s\n",
      "11:\tlearn: 18.2818680\ttotal: 180ms\tremaining: 1.32s\n",
      "12:\tlearn: 17.9153765\ttotal: 195ms\tremaining: 1.31s\n",
      "13:\tlearn: 17.6605152\ttotal: 211ms\tremaining: 1.29s\n",
      "14:\tlearn: 17.4213727\ttotal: 226ms\tremaining: 1.28s\n",
      "15:\tlearn: 17.0468796\ttotal: 240ms\tremaining: 1.26s\n",
      "16:\tlearn: 16.6928334\ttotal: 255ms\tremaining: 1.25s\n",
      "17:\tlearn: 16.4066801\ttotal: 269ms\tremaining: 1.23s\n",
      "18:\tlearn: 16.1963979\ttotal: 284ms\tremaining: 1.21s\n",
      "19:\tlearn: 16.0113183\ttotal: 299ms\tremaining: 1.2s\n",
      "20:\tlearn: 15.8589777\ttotal: 314ms\tremaining: 1.18s\n",
      "21:\tlearn: 15.6289530\ttotal: 328ms\tremaining: 1.16s\n",
      "22:\tlearn: 15.5184282\ttotal: 342ms\tremaining: 1.15s\n",
      "23:\tlearn: 15.1901696\ttotal: 357ms\tremaining: 1.13s\n",
      "24:\tlearn: 15.0467025\ttotal: 374ms\tremaining: 1.12s\n",
      "25:\tlearn: 14.9560447\ttotal: 389ms\tremaining: 1.1s\n",
      "26:\tlearn: 14.7696658\ttotal: 404ms\tremaining: 1.09s\n",
      "27:\tlearn: 14.5242127\ttotal: 419ms\tremaining: 1.08s\n",
      "28:\tlearn: 14.2604322\ttotal: 434ms\tremaining: 1.06s\n",
      "29:\tlearn: 14.0739374\ttotal: 449ms\tremaining: 1.05s\n",
      "30:\tlearn: 13.8753978\ttotal: 464ms\tremaining: 1.03s\n",
      "31:\tlearn: 13.6662727\ttotal: 479ms\tremaining: 1.02s\n",
      "32:\tlearn: 13.4142529\ttotal: 495ms\tremaining: 1s\n",
      "33:\tlearn: 13.2500320\ttotal: 510ms\tremaining: 990ms\n",
      "34:\tlearn: 13.0424299\ttotal: 525ms\tremaining: 975ms\n",
      "35:\tlearn: 12.8800604\ttotal: 541ms\tremaining: 961ms\n",
      "36:\tlearn: 12.7037152\ttotal: 557ms\tremaining: 948ms\n",
      "37:\tlearn: 12.6098216\ttotal: 572ms\tremaining: 933ms\n",
      "38:\tlearn: 12.4607428\ttotal: 588ms\tremaining: 920ms\n",
      "39:\tlearn: 12.2830908\ttotal: 604ms\tremaining: 905ms\n",
      "40:\tlearn: 12.1530368\ttotal: 618ms\tremaining: 890ms\n",
      "41:\tlearn: 12.0285597\ttotal: 633ms\tremaining: 874ms\n",
      "42:\tlearn: 11.8112664\ttotal: 648ms\tremaining: 860ms\n",
      "43:\tlearn: 11.6624504\ttotal: 664ms\tremaining: 845ms\n",
      "44:\tlearn: 11.5133880\ttotal: 680ms\tremaining: 831ms\n",
      "45:\tlearn: 11.3340425\ttotal: 696ms\tremaining: 817ms\n",
      "46:\tlearn: 11.2523501\ttotal: 711ms\tremaining: 802ms\n",
      "47:\tlearn: 11.2479493\ttotal: 727ms\tremaining: 787ms\n",
      "48:\tlearn: 11.2441627\ttotal: 743ms\tremaining: 773ms\n",
      "49:\tlearn: 11.1168323\ttotal: 759ms\tremaining: 759ms\n",
      "50:\tlearn: 10.9329078\ttotal: 774ms\tremaining: 743ms\n",
      "51:\tlearn: 10.8499708\ttotal: 789ms\tremaining: 728ms\n",
      "52:\tlearn: 10.7309434\ttotal: 804ms\tremaining: 713ms\n",
      "53:\tlearn: 10.6310802\ttotal: 819ms\tremaining: 698ms\n",
      "54:\tlearn: 10.5306757\ttotal: 834ms\tremaining: 683ms\n",
      "55:\tlearn: 10.4196197\ttotal: 850ms\tremaining: 668ms\n",
      "56:\tlearn: 10.3998204\ttotal: 865ms\tremaining: 652ms\n",
      "57:\tlearn: 10.2639119\ttotal: 880ms\tremaining: 637ms\n",
      "58:\tlearn: 10.2560536\ttotal: 895ms\tremaining: 622ms\n",
      "59:\tlearn: 10.1087995\ttotal: 910ms\tremaining: 607ms\n",
      "60:\tlearn: 10.0460724\ttotal: 925ms\tremaining: 591ms\n",
      "61:\tlearn: 9.9196921\ttotal: 940ms\tremaining: 576ms\n",
      "62:\tlearn: 9.9158696\ttotal: 955ms\tremaining: 561ms\n",
      "63:\tlearn: 9.7454853\ttotal: 971ms\tremaining: 546ms\n",
      "64:\tlearn: 9.6268569\ttotal: 986ms\tremaining: 531ms\n",
      "65:\tlearn: 9.5264508\ttotal: 1s\tremaining: 516ms\n",
      "66:\tlearn: 9.4467020\ttotal: 1.02s\tremaining: 501ms\n",
      "67:\tlearn: 9.3469552\ttotal: 1.03s\tremaining: 486ms\n",
      "68:\tlearn: 9.1838914\ttotal: 1.05s\tremaining: 471ms\n",
      "69:\tlearn: 9.1804366\ttotal: 1.06s\tremaining: 456ms\n",
      "70:\tlearn: 9.0992355\ttotal: 1.08s\tremaining: 441ms\n",
      "71:\tlearn: 8.9694747\ttotal: 1.09s\tremaining: 426ms\n",
      "72:\tlearn: 8.9232381\ttotal: 1.11s\tremaining: 411ms\n",
      "73:\tlearn: 8.7848187\ttotal: 1.13s\tremaining: 396ms\n",
      "74:\tlearn: 8.6420201\ttotal: 1.14s\tremaining: 381ms\n",
      "75:\tlearn: 8.5717961\ttotal: 1.16s\tremaining: 366ms\n",
      "76:\tlearn: 8.3951209\ttotal: 1.17s\tremaining: 350ms\n",
      "77:\tlearn: 8.3149031\ttotal: 1.19s\tremaining: 335ms\n",
      "78:\tlearn: 8.1681910\ttotal: 1.21s\tremaining: 321ms\n",
      "79:\tlearn: 8.1020831\ttotal: 1.22s\tremaining: 305ms\n",
      "80:\tlearn: 8.0997852\ttotal: 1.24s\tremaining: 290ms\n",
      "81:\tlearn: 8.0075289\ttotal: 1.25s\tremaining: 275ms\n",
      "82:\tlearn: 7.9070793\ttotal: 1.27s\tremaining: 260ms\n",
      "83:\tlearn: 7.8214427\ttotal: 1.28s\tremaining: 244ms\n",
      "84:\tlearn: 7.7610359\ttotal: 1.3s\tremaining: 229ms\n",
      "85:\tlearn: 7.6555468\ttotal: 1.31s\tremaining: 214ms\n",
      "86:\tlearn: 7.5425451\ttotal: 1.33s\tremaining: 199ms\n",
      "87:\tlearn: 7.4656558\ttotal: 1.35s\tremaining: 184ms\n",
      "88:\tlearn: 7.3879174\ttotal: 1.36s\tremaining: 168ms\n",
      "89:\tlearn: 7.2705123\ttotal: 1.38s\tremaining: 153ms\n",
      "90:\tlearn: 7.2074887\ttotal: 1.39s\tremaining: 138ms\n",
      "91:\tlearn: 7.1369369\ttotal: 1.41s\tremaining: 122ms\n",
      "92:\tlearn: 7.0337566\ttotal: 1.42s\tremaining: 107ms\n",
      "93:\tlearn: 6.9707040\ttotal: 1.44s\tremaining: 91.8ms\n",
      "94:\tlearn: 6.9148091\ttotal: 1.46s\tremaining: 76.6ms\n",
      "95:\tlearn: 6.8603161\ttotal: 1.48s\tremaining: 61.7ms\n",
      "96:\tlearn: 6.8074084\ttotal: 1.5s\tremaining: 46.6ms\n",
      "97:\tlearn: 6.7387230\ttotal: 1.53s\tremaining: 31.2ms\n",
      "98:\tlearn: 6.6402124\ttotal: 1.55s\tremaining: 15.6ms\n",
      "99:\tlearn: 6.5537586\ttotal: 1.57s\tremaining: 0us\n",
      "Learning rate set to 0.464409\n",
      "0:\tlearn: 24.7019094\ttotal: 978ms\tremaining: 47.9s\n",
      "1:\tlearn: 21.6349266\ttotal: 1.94s\tremaining: 46.5s\n",
      "2:\tlearn: 18.8998840\ttotal: 2.91s\tremaining: 45.6s\n",
      "3:\tlearn: 16.4584490\ttotal: 3.88s\tremaining: 44.7s\n",
      "4:\tlearn: 14.5311210\ttotal: 4.84s\tremaining: 43.6s\n",
      "5:\tlearn: 13.2466553\ttotal: 5.84s\tremaining: 42.8s\n",
      "6:\tlearn: 12.0499806\ttotal: 6.89s\tremaining: 42.3s\n",
      "7:\tlearn: 11.0424058\ttotal: 7.86s\tremaining: 41.3s\n",
      "8:\tlearn: 9.9828398\ttotal: 8.81s\tremaining: 40.2s\n",
      "9:\tlearn: 9.1549184\ttotal: 9.8s\tremaining: 39.2s\n",
      "10:\tlearn: 8.5079915\ttotal: 10.7s\tremaining: 38.1s\n",
      "11:\tlearn: 7.9503174\ttotal: 11.7s\tremaining: 37.2s\n",
      "12:\tlearn: 7.3532183\ttotal: 12.7s\tremaining: 36.1s\n",
      "13:\tlearn: 6.7997529\ttotal: 13.7s\tremaining: 35.1s\n",
      "14:\tlearn: 6.3040119\ttotal: 14.6s\tremaining: 34.1s\n",
      "15:\tlearn: 5.8471923\ttotal: 15.6s\tremaining: 33.1s\n",
      "16:\tlearn: 5.4822404\ttotal: 16.5s\tremaining: 32.1s\n",
      "17:\tlearn: 5.0722223\ttotal: 17.5s\tremaining: 31.1s\n",
      "18:\tlearn: 4.8441252\ttotal: 18.4s\tremaining: 30.1s\n",
      "19:\tlearn: 4.6659153\ttotal: 19.4s\tremaining: 29.2s\n",
      "20:\tlearn: 4.3048314\ttotal: 20.4s\tremaining: 28.2s\n",
      "21:\tlearn: 4.2917834\ttotal: 20.4s\tremaining: 26s\n",
      "22:\tlearn: 3.9464441\ttotal: 21.4s\tremaining: 25.1s\n",
      "23:\tlearn: 3.8210571\ttotal: 22.4s\tremaining: 24.2s\n",
      "24:\tlearn: 3.4983225\ttotal: 23.3s\tremaining: 23.3s\n",
      "25:\tlearn: 3.3575578\ttotal: 24.3s\tremaining: 22.4s\n",
      "26:\tlearn: 3.1684635\ttotal: 25.2s\tremaining: 21.5s\n",
      "27:\tlearn: 3.0287708\ttotal: 26.2s\tremaining: 20.6s\n",
      "28:\tlearn: 2.8995817\ttotal: 27.1s\tremaining: 19.7s\n",
      "29:\tlearn: 2.6942545\ttotal: 28.1s\tremaining: 18.7s\n",
      "30:\tlearn: 2.6328339\ttotal: 29s\tremaining: 17.8s\n",
      "31:\tlearn: 2.6207161\ttotal: 29s\tremaining: 16.3s\n",
      "32:\tlearn: 2.5154675\ttotal: 30.1s\tremaining: 15.5s\n",
      "33:\tlearn: 2.3518491\ttotal: 31.1s\tremaining: 14.6s\n",
      "34:\tlearn: 2.2233509\ttotal: 32.1s\tremaining: 13.7s\n",
      "35:\tlearn: 2.0858120\ttotal: 33.1s\tremaining: 12.9s\n",
      "36:\tlearn: 1.9269487\ttotal: 34.1s\tremaining: 12s\n",
      "37:\tlearn: 1.7874486\ttotal: 35s\tremaining: 11.1s\n",
      "38:\tlearn: 1.7455766\ttotal: 35s\tremaining: 9.88s\n",
      "39:\tlearn: 1.6459368\ttotal: 36s\tremaining: 9s\n",
      "40:\tlearn: 1.5918511\ttotal: 37s\tremaining: 8.12s\n",
      "41:\tlearn: 1.4969284\ttotal: 38s\tremaining: 7.23s\n",
      "42:\tlearn: 1.4566455\ttotal: 38.9s\tremaining: 6.34s\n",
      "43:\tlearn: 1.3356564\ttotal: 40s\tremaining: 5.45s\n",
      "44:\tlearn: 1.2730805\ttotal: 40.9s\tremaining: 4.55s\n",
      "45:\tlearn: 1.1736443\ttotal: 41.9s\tremaining: 3.65s\n",
      "46:\tlearn: 1.1225603\ttotal: 42.9s\tremaining: 2.74s\n",
      "47:\tlearn: 1.0732862\ttotal: 43.9s\tremaining: 1.83s\n",
      "48:\tlearn: 1.0381005\ttotal: 44.9s\tremaining: 916ms\n",
      "49:\tlearn: 0.9500377\ttotal: 45.9s\tremaining: 0us\n",
      "Learning rate set to 0.5\n",
      "0:\tlearn: 26.9792967\ttotal: 1.11s\tremaining: 54.4s\n",
      "1:\tlearn: 23.2092469\ttotal: 2.2s\tremaining: 52.8s\n",
      "2:\tlearn: 20.4637864\ttotal: 3.37s\tremaining: 52.8s\n",
      "3:\tlearn: 18.6101089\ttotal: 4.46s\tremaining: 51.3s\n",
      "4:\tlearn: 16.7902306\ttotal: 5.55s\tremaining: 50s\n",
      "5:\tlearn: 15.4855667\ttotal: 6.68s\tremaining: 49s\n",
      "6:\tlearn: 14.2727963\ttotal: 7.77s\tremaining: 47.7s\n",
      "7:\tlearn: 12.9382809\ttotal: 8.87s\tremaining: 46.6s\n",
      "8:\tlearn: 11.9627885\ttotal: 9.98s\tremaining: 45.5s\n",
      "9:\tlearn: 11.0944932\ttotal: 11.1s\tremaining: 44.3s\n",
      "10:\tlearn: 10.3703619\ttotal: 12.2s\tremaining: 43.1s\n",
      "11:\tlearn: 9.8191556\ttotal: 13.3s\tremaining: 42.2s\n",
      "12:\tlearn: 9.2912630\ttotal: 14.4s\tremaining: 41s\n",
      "13:\tlearn: 8.9040455\ttotal: 15.5s\tremaining: 39.9s\n",
      "14:\tlearn: 8.4565780\ttotal: 16.6s\tremaining: 38.8s\n",
      "15:\tlearn: 7.9958436\ttotal: 17.7s\tremaining: 37.7s\n",
      "16:\tlearn: 7.9316203\ttotal: 17.8s\tremaining: 34.5s\n",
      "17:\tlearn: 7.6270833\ttotal: 18.8s\tremaining: 33.4s\n",
      "18:\tlearn: 7.3272223\ttotal: 19.9s\tremaining: 32.5s\n",
      "19:\tlearn: 6.7677706\ttotal: 21s\tremaining: 31.5s\n",
      "20:\tlearn: 6.5955004\ttotal: 22.1s\tremaining: 30.5s\n",
      "21:\tlearn: 6.3465475\ttotal: 23.2s\tremaining: 29.6s\n",
      "22:\tlearn: 6.0303215\ttotal: 24.3s\tremaining: 28.5s\n",
      "23:\tlearn: 5.7586508\ttotal: 25.4s\tremaining: 27.5s\n",
      "24:\tlearn: 5.3385418\ttotal: 26.5s\tremaining: 26.5s\n",
      "25:\tlearn: 4.9570824\ttotal: 27.6s\tremaining: 25.5s\n",
      "26:\tlearn: 4.8609514\ttotal: 28.7s\tremaining: 24.4s\n",
      "27:\tlearn: 4.5940797\ttotal: 29.8s\tremaining: 23.4s\n",
      "28:\tlearn: 4.4269994\ttotal: 30.8s\tremaining: 22.3s\n",
      "29:\tlearn: 4.3054107\ttotal: 31.9s\tremaining: 21.3s\n",
      "30:\tlearn: 4.0771818\ttotal: 33s\tremaining: 20.3s\n",
      "31:\tlearn: 3.7908286\ttotal: 34.1s\tremaining: 19.2s\n",
      "32:\tlearn: 3.6072285\ttotal: 35.2s\tremaining: 18.1s\n",
      "33:\tlearn: 3.5986275\ttotal: 35.2s\tremaining: 16.6s\n",
      "34:\tlearn: 3.4628232\ttotal: 36.4s\tremaining: 15.6s\n",
      "35:\tlearn: 3.3365023\ttotal: 37.4s\tremaining: 14.6s\n",
      "36:\tlearn: 3.3325013\ttotal: 37.5s\tremaining: 13.2s\n",
      "37:\tlearn: 3.1409040\ttotal: 38.5s\tremaining: 12.2s\n",
      "38:\tlearn: 3.0374842\ttotal: 39.6s\tremaining: 11.2s\n",
      "39:\tlearn: 2.9346022\ttotal: 40.7s\tremaining: 10.2s\n",
      "40:\tlearn: 2.8356879\ttotal: 41.8s\tremaining: 9.17s\n",
      "41:\tlearn: 2.7668340\ttotal: 42.9s\tremaining: 8.17s\n",
      "42:\tlearn: 2.6108349\ttotal: 44s\tremaining: 7.16s\n",
      "43:\tlearn: 2.5368935\ttotal: 45.1s\tremaining: 6.15s\n",
      "44:\tlearn: 2.5062859\ttotal: 46.2s\tremaining: 5.13s\n",
      "45:\tlearn: 2.4041288\ttotal: 47.3s\tremaining: 4.11s\n",
      "46:\tlearn: 2.2330382\ttotal: 48.4s\tremaining: 3.09s\n",
      "47:\tlearn: 2.1314156\ttotal: 49.5s\tremaining: 2.06s\n",
      "48:\tlearn: 2.0946111\ttotal: 50.6s\tremaining: 1.03s\n",
      "49:\tlearn: 2.0564013\ttotal: 51.6s\tremaining: 0us\n",
      "Learning rate set to 0.5\n",
      "0:\tlearn: 26.9983392\ttotal: 1.14s\tremaining: 56.1s\n",
      "1:\tlearn: 23.5678559\ttotal: 2.25s\tremaining: 54s\n",
      "2:\tlearn: 21.1327605\ttotal: 3.4s\tremaining: 53.3s\n",
      "3:\tlearn: 19.1377773\ttotal: 4.54s\tremaining: 52.2s\n",
      "4:\tlearn: 17.3500838\ttotal: 5.72s\tremaining: 51.5s\n",
      "5:\tlearn: 16.2328795\ttotal: 6.89s\tremaining: 50.6s\n",
      "6:\tlearn: 15.3044318\ttotal: 8.02s\tremaining: 49.3s\n",
      "7:\tlearn: 14.2062672\ttotal: 9.16s\tremaining: 48.1s\n",
      "8:\tlearn: 13.3176067\ttotal: 10.3s\tremaining: 46.9s\n",
      "9:\tlearn: 12.6680678\ttotal: 11.5s\tremaining: 45.8s\n",
      "10:\tlearn: 11.8122465\ttotal: 12.6s\tremaining: 44.6s\n",
      "11:\tlearn: 11.3190509\ttotal: 13.7s\tremaining: 43.5s\n",
      "12:\tlearn: 10.8573410\ttotal: 14.8s\tremaining: 42.2s\n",
      "13:\tlearn: 10.4406178\ttotal: 16s\tremaining: 41.1s\n",
      "14:\tlearn: 10.0218837\ttotal: 17.1s\tremaining: 39.9s\n",
      "15:\tlearn: 9.5096006\ttotal: 18.2s\tremaining: 38.7s\n",
      "16:\tlearn: 9.1867452\ttotal: 19.3s\tremaining: 37.5s\n",
      "17:\tlearn: 8.7334257\ttotal: 20.4s\tremaining: 36.3s\n",
      "18:\tlearn: 8.2730055\ttotal: 21.6s\tremaining: 35.2s\n",
      "19:\tlearn: 7.9225431\ttotal: 22.7s\tremaining: 34.1s\n",
      "20:\tlearn: 7.7911173\ttotal: 22.9s\tremaining: 31.6s\n",
      "21:\tlearn: 7.5157679\ttotal: 24s\tremaining: 30.6s\n",
      "22:\tlearn: 7.0920312\ttotal: 25.1s\tremaining: 29.5s\n",
      "23:\tlearn: 6.9713997\ttotal: 26.3s\tremaining: 28.5s\n",
      "24:\tlearn: 6.8563595\ttotal: 27.5s\tremaining: 27.5s\n",
      "25:\tlearn: 6.4684690\ttotal: 28.6s\tremaining: 26.4s\n",
      "26:\tlearn: 6.2180012\ttotal: 29.7s\tremaining: 25.3s\n",
      "27:\tlearn: 5.9059077\ttotal: 30.9s\tremaining: 24.3s\n",
      "28:\tlearn: 5.8954802\ttotal: 30.9s\tremaining: 22.4s\n",
      "29:\tlearn: 5.8373661\ttotal: 32s\tremaining: 21.4s\n",
      "30:\tlearn: 5.5929846\ttotal: 33.2s\tremaining: 20.3s\n",
      "31:\tlearn: 5.5529339\ttotal: 34.3s\tremaining: 19.3s\n",
      "32:\tlearn: 5.3168580\ttotal: 35.4s\tremaining: 18.2s\n",
      "33:\tlearn: 5.0972918\ttotal: 36.5s\tremaining: 17.2s\n",
      "34:\tlearn: 4.8255392\ttotal: 37.7s\tremaining: 16.2s\n",
      "35:\tlearn: 4.5822612\ttotal: 38.8s\tremaining: 15.1s\n",
      "36:\tlearn: 4.3910222\ttotal: 39.9s\tremaining: 14s\n",
      "37:\tlearn: 4.3819722\ttotal: 40s\tremaining: 12.6s\n",
      "38:\tlearn: 4.1982891\ttotal: 41.1s\tremaining: 11.6s\n",
      "39:\tlearn: 3.9484943\ttotal: 42.3s\tremaining: 10.6s\n",
      "40:\tlearn: 3.7557961\ttotal: 43.4s\tremaining: 9.53s\n",
      "41:\tlearn: 3.7446346\ttotal: 44.5s\tremaining: 8.48s\n",
      "42:\tlearn: 3.7180695\ttotal: 45.7s\tremaining: 7.43s\n",
      "43:\tlearn: 3.6544461\ttotal: 46.8s\tremaining: 6.38s\n",
      "44:\tlearn: 3.5184654\ttotal: 47.9s\tremaining: 5.32s\n",
      "45:\tlearn: 3.3936359\ttotal: 49s\tremaining: 4.26s\n",
      "46:\tlearn: 3.2519772\ttotal: 50.1s\tremaining: 3.2s\n",
      "47:\tlearn: 3.1126447\ttotal: 51.3s\tremaining: 2.14s\n",
      "48:\tlearn: 3.0011830\ttotal: 52.4s\tremaining: 1.07s\n",
      "49:\tlearn: 2.9179226\ttotal: 53.5s\tremaining: 0us\n",
      "Learning rate set to 0.26434\n",
      "0:\tlearn: 26.6617182\ttotal: 934ms\tremaining: 1m 32s\n",
      "1:\tlearn: 24.3309774\ttotal: 1.87s\tremaining: 1m 31s\n",
      "2:\tlearn: 22.3684080\ttotal: 2.81s\tremaining: 1m 30s\n",
      "3:\tlearn: 20.4792620\ttotal: 3.77s\tremaining: 1m 30s\n",
      "4:\tlearn: 19.2025261\ttotal: 4.71s\tremaining: 1m 29s\n",
      "5:\tlearn: 17.7405056\ttotal: 5.66s\tremaining: 1m 28s\n",
      "6:\tlearn: 16.6612022\ttotal: 6.64s\tremaining: 1m 28s\n",
      "7:\tlearn: 15.5641636\ttotal: 7.58s\tremaining: 1m 27s\n",
      "8:\tlearn: 14.5851870\ttotal: 8.53s\tremaining: 1m 26s\n",
      "9:\tlearn: 14.1088810\ttotal: 8.53s\tremaining: 1m 16s\n",
      "10:\tlearn: 13.3121850\ttotal: 9.51s\tremaining: 1m 16s\n",
      "11:\tlearn: 12.6216204\ttotal: 10.5s\tremaining: 1m 16s\n",
      "12:\tlearn: 11.9427058\ttotal: 11.4s\tremaining: 1m 16s\n",
      "13:\tlearn: 11.3606531\ttotal: 12.3s\tremaining: 1m 15s\n",
      "14:\tlearn: 10.7545923\ttotal: 13.3s\tremaining: 1m 15s\n",
      "15:\tlearn: 10.1515181\ttotal: 14.3s\tremaining: 1m 15s\n",
      "16:\tlearn: 9.6736028\ttotal: 15.3s\tremaining: 1m 14s\n",
      "17:\tlearn: 9.1857329\ttotal: 16.3s\tremaining: 1m 14s\n",
      "18:\tlearn: 8.7764847\ttotal: 17.3s\tremaining: 1m 13s\n",
      "19:\tlearn: 8.3356977\ttotal: 18.3s\tremaining: 1m 13s\n",
      "20:\tlearn: 7.9772488\ttotal: 19.3s\tremaining: 1m 12s\n",
      "21:\tlearn: 7.6577172\ttotal: 20.2s\tremaining: 1m 11s\n",
      "22:\tlearn: 7.2783098\ttotal: 21.2s\tremaining: 1m 10s\n",
      "23:\tlearn: 6.9457885\ttotal: 22.1s\tremaining: 1m 10s\n",
      "24:\tlearn: 6.6530544\ttotal: 23.1s\tremaining: 1m 9s\n",
      "25:\tlearn: 6.3706781\ttotal: 24s\tremaining: 1m 8s\n",
      "26:\tlearn: 6.0859401\ttotal: 25s\tremaining: 1m 7s\n",
      "27:\tlearn: 5.8034520\ttotal: 25.9s\tremaining: 1m 6s\n",
      "28:\tlearn: 5.5606737\ttotal: 26.9s\tremaining: 1m 5s\n",
      "29:\tlearn: 5.3690588\ttotal: 27.9s\tremaining: 1m 5s\n",
      "30:\tlearn: 5.1505921\ttotal: 28.8s\tremaining: 1m 4s\n",
      "31:\tlearn: 4.9920005\ttotal: 29.8s\tremaining: 1m 3s\n",
      "32:\tlearn: 4.7822761\ttotal: 30.8s\tremaining: 1m 2s\n",
      "33:\tlearn: 4.6453063\ttotal: 31.7s\tremaining: 1m 1s\n",
      "34:\tlearn: 4.4525787\ttotal: 32.6s\tremaining: 1m\n",
      "35:\tlearn: 4.2547699\ttotal: 33.6s\tremaining: 59.7s\n",
      "36:\tlearn: 4.0807451\ttotal: 34.6s\tremaining: 58.8s\n",
      "37:\tlearn: 3.8924020\ttotal: 35.5s\tremaining: 58s\n",
      "38:\tlearn: 3.7317859\ttotal: 36.5s\tremaining: 57.1s\n",
      "39:\tlearn: 3.5925473\ttotal: 37.5s\tremaining: 56.2s\n",
      "40:\tlearn: 3.4508313\ttotal: 38.4s\tremaining: 55.3s\n",
      "41:\tlearn: 3.3646989\ttotal: 39.4s\tremaining: 54.4s\n",
      "42:\tlearn: 3.2454733\ttotal: 40.4s\tremaining: 53.6s\n",
      "43:\tlearn: 3.1435256\ttotal: 41.4s\tremaining: 52.6s\n",
      "44:\tlearn: 3.0614153\ttotal: 42.3s\tremaining: 51.7s\n",
      "45:\tlearn: 2.9411463\ttotal: 43.3s\tremaining: 50.8s\n",
      "46:\tlearn: 2.8710995\ttotal: 44.2s\tremaining: 49.9s\n",
      "47:\tlearn: 2.7987597\ttotal: 45.2s\tremaining: 48.9s\n",
      "48:\tlearn: 2.7008756\ttotal: 46.1s\tremaining: 48s\n",
      "49:\tlearn: 2.5928666\ttotal: 47.1s\tremaining: 47.1s\n",
      "50:\tlearn: 2.5109759\ttotal: 48.1s\tremaining: 46.2s\n",
      "51:\tlearn: 2.4145595\ttotal: 49s\tremaining: 45.3s\n",
      "52:\tlearn: 2.3120965\ttotal: 50s\tremaining: 44.4s\n",
      "53:\tlearn: 2.2083111\ttotal: 51s\tremaining: 43.4s\n",
      "54:\tlearn: 2.1732949\ttotal: 51.9s\tremaining: 42.5s\n",
      "55:\tlearn: 2.1028970\ttotal: 52.9s\tremaining: 41.6s\n",
      "56:\tlearn: 2.0322698\ttotal: 53.9s\tremaining: 40.7s\n",
      "57:\tlearn: 1.9668199\ttotal: 54.9s\tremaining: 39.7s\n",
      "58:\tlearn: 1.9121751\ttotal: 55.9s\tremaining: 38.8s\n",
      "59:\tlearn: 1.8767636\ttotal: 56.9s\tremaining: 37.9s\n",
      "60:\tlearn: 1.8242488\ttotal: 57.8s\tremaining: 37s\n",
      "61:\tlearn: 1.7512932\ttotal: 58.8s\tremaining: 36.1s\n",
      "62:\tlearn: 1.6654004\ttotal: 59.8s\tremaining: 35.1s\n",
      "63:\tlearn: 1.6397389\ttotal: 1m\tremaining: 34.2s\n",
      "64:\tlearn: 1.6374164\ttotal: 1m\tremaining: 32.7s\n",
      "65:\tlearn: 1.5770367\ttotal: 1m 1s\tremaining: 31.8s\n",
      "66:\tlearn: 1.5537452\ttotal: 1m 1s\tremaining: 30.4s\n",
      "67:\tlearn: 1.5278607\ttotal: 1m 2s\tremaining: 29.5s\n",
      "68:\tlearn: 1.4932917\ttotal: 1m 3s\tremaining: 28.6s\n",
      "69:\tlearn: 1.4839942\ttotal: 1m 3s\tremaining: 27.3s\n",
      "70:\tlearn: 1.4524771\ttotal: 1m 4s\tremaining: 26.5s\n",
      "71:\tlearn: 1.4220732\ttotal: 1m 5s\tremaining: 25.6s\n",
      "72:\tlearn: 1.3735724\ttotal: 1m 6s\tremaining: 24.7s\n",
      "73:\tlearn: 1.3374307\ttotal: 1m 7s\tremaining: 23.8s\n",
      "74:\tlearn: 1.2983131\ttotal: 1m 8s\tremaining: 22.9s\n",
      "75:\tlearn: 1.2757030\ttotal: 1m 9s\tremaining: 22s\n",
      "76:\tlearn: 1.2146092\ttotal: 1m 10s\tremaining: 21.1s\n",
      "77:\tlearn: 1.1835407\ttotal: 1m 11s\tremaining: 20.2s\n",
      "78:\tlearn: 1.1473625\ttotal: 1m 12s\tremaining: 19.3s\n",
      "79:\tlearn: 1.0943707\ttotal: 1m 13s\tremaining: 18.4s\n",
      "80:\tlearn: 1.0909417\ttotal: 1m 13s\tremaining: 17.3s\n",
      "81:\tlearn: 1.0765693\ttotal: 1m 14s\tremaining: 16.4s\n",
      "82:\tlearn: 1.0393308\ttotal: 1m 15s\tremaining: 15.5s\n",
      "83:\tlearn: 1.0010985\ttotal: 1m 16s\tremaining: 14.6s\n",
      "84:\tlearn: 0.9576786\ttotal: 1m 17s\tremaining: 13.7s\n",
      "85:\tlearn: 0.9345242\ttotal: 1m 18s\tremaining: 12.8s\n",
      "86:\tlearn: 0.9072422\ttotal: 1m 19s\tremaining: 11.9s\n",
      "87:\tlearn: 0.8810298\ttotal: 1m 20s\tremaining: 11s\n",
      "88:\tlearn: 0.8505423\ttotal: 1m 21s\tremaining: 10.1s\n",
      "89:\tlearn: 0.8366496\ttotal: 1m 22s\tremaining: 9.15s\n",
      "90:\tlearn: 0.7975495\ttotal: 1m 23s\tremaining: 8.24s\n",
      "91:\tlearn: 0.7687776\ttotal: 1m 24s\tremaining: 7.33s\n",
      "92:\tlearn: 0.7512733\ttotal: 1m 25s\tremaining: 6.41s\n",
      "93:\tlearn: 0.7283606\ttotal: 1m 26s\tremaining: 5.5s\n",
      "94:\tlearn: 0.7164489\ttotal: 1m 27s\tremaining: 4.59s\n",
      "95:\tlearn: 0.7018360\ttotal: 1m 28s\tremaining: 3.67s\n",
      "96:\tlearn: 0.7005499\ttotal: 1m 28s\tremaining: 2.73s\n",
      "97:\tlearn: 0.6906066\ttotal: 1m 29s\tremaining: 1.82s\n",
      "98:\tlearn: 0.6634015\ttotal: 1m 30s\tremaining: 910ms\n",
      "99:\tlearn: 0.6605835\ttotal: 1m 30s\tremaining: 0us\n",
      "Learning rate set to 0.294862\n",
      "0:\tlearn: 29.2692258\ttotal: 1.08s\tremaining: 1m 46s\n",
      "1:\tlearn: 26.4575756\ttotal: 2.27s\tremaining: 1m 51s\n",
      "2:\tlearn: 24.3220966\ttotal: 3.38s\tremaining: 1m 49s\n",
      "3:\tlearn: 22.3597183\ttotal: 4.47s\tremaining: 1m 47s\n",
      "4:\tlearn: 20.5512532\ttotal: 5.58s\tremaining: 1m 46s\n",
      "5:\tlearn: 19.1787056\ttotal: 6.67s\tremaining: 1m 44s\n",
      "6:\tlearn: 18.0343839\ttotal: 7.76s\tremaining: 1m 43s\n",
      "7:\tlearn: 16.9533168\ttotal: 8.87s\tremaining: 1m 42s\n",
      "8:\tlearn: 16.0269826\ttotal: 9.95s\tremaining: 1m 40s\n",
      "9:\tlearn: 15.1277777\ttotal: 11s\tremaining: 1m 39s\n",
      "10:\tlearn: 14.3289578\ttotal: 12.1s\tremaining: 1m 37s\n",
      "11:\tlearn: 13.7238541\ttotal: 13.2s\tremaining: 1m 36s\n",
      "12:\tlearn: 13.0989466\ttotal: 14.3s\tremaining: 1m 35s\n",
      "13:\tlearn: 12.5904074\ttotal: 15.4s\tremaining: 1m 34s\n",
      "14:\tlearn: 12.0418995\ttotal: 16.5s\tremaining: 1m 33s\n",
      "15:\tlearn: 11.4520615\ttotal: 17.6s\tremaining: 1m 32s\n",
      "16:\tlearn: 11.1141320\ttotal: 18.7s\tremaining: 1m 31s\n",
      "17:\tlearn: 10.5803639\ttotal: 19.8s\tremaining: 1m 30s\n",
      "18:\tlearn: 10.1508032\ttotal: 20.9s\tremaining: 1m 28s\n",
      "19:\tlearn: 9.8610641\ttotal: 21.9s\tremaining: 1m 27s\n",
      "20:\tlearn: 9.4309360\ttotal: 23s\tremaining: 1m 26s\n",
      "21:\tlearn: 9.1606909\ttotal: 24.1s\tremaining: 1m 25s\n",
      "22:\tlearn: 9.0000864\ttotal: 25.1s\tremaining: 1m 24s\n",
      "23:\tlearn: 8.7057553\ttotal: 26.2s\tremaining: 1m 23s\n",
      "24:\tlearn: 8.3433543\ttotal: 27.3s\tremaining: 1m 21s\n",
      "25:\tlearn: 8.0819301\ttotal: 28.4s\tremaining: 1m 20s\n",
      "26:\tlearn: 7.7834652\ttotal: 29.5s\tremaining: 1m 19s\n",
      "27:\tlearn: 7.4748119\ttotal: 30.6s\tremaining: 1m 18s\n",
      "28:\tlearn: 7.1741285\ttotal: 31.6s\tremaining: 1m 17s\n",
      "29:\tlearn: 6.9501577\ttotal: 32.7s\tremaining: 1m 16s\n",
      "30:\tlearn: 6.7216855\ttotal: 33.8s\tremaining: 1m 15s\n",
      "31:\tlearn: 6.5970859\ttotal: 34.8s\tremaining: 1m 14s\n",
      "32:\tlearn: 6.3983590\ttotal: 35.9s\tremaining: 1m 12s\n",
      "33:\tlearn: 6.3410802\ttotal: 37s\tremaining: 1m 11s\n",
      "34:\tlearn: 6.1472138\ttotal: 38.1s\tremaining: 1m 10s\n",
      "35:\tlearn: 6.0598858\ttotal: 39.2s\tremaining: 1m 9s\n",
      "36:\tlearn: 5.8859852\ttotal: 40.3s\tremaining: 1m 8s\n",
      "37:\tlearn: 5.7586608\ttotal: 41.4s\tremaining: 1m 7s\n",
      "38:\tlearn: 5.5589445\ttotal: 42.4s\tremaining: 1m 6s\n",
      "39:\tlearn: 5.5121070\ttotal: 42.5s\tremaining: 1m 3s\n",
      "40:\tlearn: 5.5017647\ttotal: 42.5s\tremaining: 1m 1s\n",
      "41:\tlearn: 5.3858853\ttotal: 43.6s\tremaining: 1m\n",
      "42:\tlearn: 5.2566291\ttotal: 44.7s\tremaining: 59.2s\n",
      "43:\tlearn: 5.0775431\ttotal: 45.8s\tremaining: 58.3s\n",
      "44:\tlearn: 5.0519625\ttotal: 45.9s\tremaining: 56.1s\n",
      "45:\tlearn: 4.9059907\ttotal: 46.9s\tremaining: 55.1s\n",
      "46:\tlearn: 4.8720110\ttotal: 48s\tremaining: 54.2s\n",
      "47:\tlearn: 4.7418615\ttotal: 49.1s\tremaining: 53.2s\n",
      "48:\tlearn: 4.5866089\ttotal: 50.2s\tremaining: 52.3s\n",
      "49:\tlearn: 4.4096632\ttotal: 51.3s\tremaining: 51.3s\n",
      "50:\tlearn: 4.2373429\ttotal: 52.4s\tremaining: 50.3s\n",
      "51:\tlearn: 4.1464864\ttotal: 53.5s\tremaining: 49.4s\n",
      "52:\tlearn: 4.0686718\ttotal: 54.5s\tremaining: 48.4s\n",
      "53:\tlearn: 3.9121765\ttotal: 55.7s\tremaining: 47.4s\n",
      "54:\tlearn: 3.7802164\ttotal: 56.8s\tremaining: 46.4s\n",
      "55:\tlearn: 3.7019247\ttotal: 57.9s\tremaining: 45.5s\n",
      "56:\tlearn: 3.5395991\ttotal: 59s\tremaining: 44.5s\n",
      "57:\tlearn: 3.4724429\ttotal: 1m\tremaining: 43.5s\n",
      "58:\tlearn: 3.3635960\ttotal: 1m 1s\tremaining: 42.4s\n",
      "59:\tlearn: 3.2607428\ttotal: 1m 2s\tremaining: 41.4s\n",
      "60:\tlearn: 3.1792890\ttotal: 1m 3s\tremaining: 40.4s\n",
      "61:\tlearn: 3.0841694\ttotal: 1m 4s\tremaining: 39.4s\n",
      "62:\tlearn: 2.9840679\ttotal: 1m 5s\tremaining: 38.4s\n",
      "63:\tlearn: 2.9384490\ttotal: 1m 6s\tremaining: 37.4s\n",
      "64:\tlearn: 2.9042620\ttotal: 1m 7s\tremaining: 36.4s\n",
      "65:\tlearn: 2.8079716\ttotal: 1m 8s\tremaining: 35.4s\n",
      "66:\tlearn: 2.7135148\ttotal: 1m 9s\tremaining: 34.4s\n",
      "67:\tlearn: 2.6943367\ttotal: 1m 10s\tremaining: 33s\n",
      "68:\tlearn: 2.5806162\ttotal: 1m 11s\tremaining: 32s\n",
      "69:\tlearn: 2.5397204\ttotal: 1m 12s\tremaining: 31s\n",
      "70:\tlearn: 2.4460418\ttotal: 1m 13s\tremaining: 30s\n",
      "71:\tlearn: 2.3980499\ttotal: 1m 14s\tremaining: 29s\n",
      "72:\tlearn: 2.3283910\ttotal: 1m 15s\tremaining: 28s\n",
      "73:\tlearn: 2.3131769\ttotal: 1m 16s\tremaining: 27s\n",
      "74:\tlearn: 2.2697714\ttotal: 1m 17s\tremaining: 26s\n",
      "75:\tlearn: 2.2134801\ttotal: 1m 19s\tremaining: 25s\n",
      "76:\tlearn: 2.1156906\ttotal: 1m 20s\tremaining: 23.9s\n",
      "77:\tlearn: 2.0419622\ttotal: 1m 21s\tremaining: 22.9s\n",
      "78:\tlearn: 1.9859358\ttotal: 1m 22s\tremaining: 21.9s\n",
      "79:\tlearn: 1.9820228\ttotal: 1m 23s\tremaining: 20.9s\n",
      "80:\tlearn: 1.9064437\ttotal: 1m 24s\tremaining: 19.8s\n",
      "81:\tlearn: 1.8973206\ttotal: 1m 24s\tremaining: 18.6s\n",
      "82:\tlearn: 1.8855477\ttotal: 1m 24s\tremaining: 17.3s\n",
      "83:\tlearn: 1.8748196\ttotal: 1m 24s\tremaining: 16.1s\n",
      "84:\tlearn: 1.7999985\ttotal: 1m 25s\tremaining: 15.2s\n",
      "85:\tlearn: 1.7677774\ttotal: 1m 27s\tremaining: 14.2s\n",
      "86:\tlearn: 1.7084861\ttotal: 1m 28s\tremaining: 13.2s\n",
      "87:\tlearn: 1.6533728\ttotal: 1m 29s\tremaining: 12.2s\n",
      "88:\tlearn: 1.6052909\ttotal: 1m 30s\tremaining: 11.2s\n",
      "89:\tlearn: 1.5594992\ttotal: 1m 31s\tremaining: 10.2s\n",
      "90:\tlearn: 1.5187861\ttotal: 1m 32s\tremaining: 9.16s\n",
      "91:\tlearn: 1.4730327\ttotal: 1m 33s\tremaining: 8.15s\n",
      "92:\tlearn: 1.4701798\ttotal: 1m 34s\tremaining: 7.14s\n",
      "93:\tlearn: 1.4271226\ttotal: 1m 35s\tremaining: 6.13s\n",
      "94:\tlearn: 1.4252427\ttotal: 1m 37s\tremaining: 5.11s\n",
      "95:\tlearn: 1.4242363\ttotal: 1m 37s\tremaining: 4.05s\n",
      "96:\tlearn: 1.4043522\ttotal: 1m 37s\tremaining: 3.01s\n",
      "97:\tlearn: 1.3801890\ttotal: 1m 38s\tremaining: 2.01s\n",
      "98:\tlearn: 1.3483884\ttotal: 1m 39s\tremaining: 1.01s\n",
      "99:\tlearn: 1.3038192\ttotal: 1m 40s\tremaining: 0us\n",
      "Learning rate set to 0.314344\n",
      "0:\tlearn: 29.3365262\ttotal: 1.14s\tremaining: 1m 53s\n",
      "1:\tlearn: 26.2900912\ttotal: 2.3s\tremaining: 1m 52s\n",
      "2:\tlearn: 24.1371769\ttotal: 3.43s\tremaining: 1m 50s\n",
      "3:\tlearn: 22.2992627\ttotal: 4.58s\tremaining: 1m 49s\n",
      "4:\tlearn: 20.7197745\ttotal: 5.67s\tremaining: 1m 47s\n",
      "5:\tlearn: 19.3553412\ttotal: 6.8s\tremaining: 1m 46s\n",
      "6:\tlearn: 18.2935821\ttotal: 7.92s\tremaining: 1m 45s\n",
      "7:\tlearn: 17.1892124\ttotal: 9.03s\tremaining: 1m 43s\n",
      "8:\tlearn: 16.3448066\ttotal: 10.1s\tremaining: 1m 42s\n",
      "9:\tlearn: 15.6607723\ttotal: 11.2s\tremaining: 1m 41s\n",
      "10:\tlearn: 15.0015986\ttotal: 12.3s\tremaining: 1m 39s\n",
      "11:\tlearn: 14.3674575\ttotal: 13.4s\tremaining: 1m 38s\n",
      "12:\tlearn: 13.8395257\ttotal: 14.6s\tremaining: 1m 37s\n",
      "13:\tlearn: 13.3063316\ttotal: 15.7s\tremaining: 1m 36s\n",
      "14:\tlearn: 12.7933015\ttotal: 16.8s\tremaining: 1m 35s\n",
      "15:\tlearn: 12.4160074\ttotal: 18s\tremaining: 1m 34s\n",
      "16:\tlearn: 12.1339595\ttotal: 19.1s\tremaining: 1m 33s\n",
      "17:\tlearn: 11.7252178\ttotal: 20.3s\tremaining: 1m 32s\n",
      "18:\tlearn: 11.4526743\ttotal: 21.4s\tremaining: 1m 31s\n",
      "19:\tlearn: 11.1817829\ttotal: 22.6s\tremaining: 1m 30s\n",
      "20:\tlearn: 10.7091599\ttotal: 23.7s\tremaining: 1m 29s\n",
      "21:\tlearn: 10.4936188\ttotal: 24.8s\tremaining: 1m 28s\n",
      "22:\tlearn: 10.2541573\ttotal: 25.9s\tremaining: 1m 26s\n",
      "23:\tlearn: 9.9818619\ttotal: 27.1s\tremaining: 1m 25s\n",
      "24:\tlearn: 9.6631055\ttotal: 28.2s\tremaining: 1m 24s\n",
      "25:\tlearn: 9.4502783\ttotal: 29.4s\tremaining: 1m 23s\n",
      "26:\tlearn: 9.2199821\ttotal: 30.5s\tremaining: 1m 22s\n",
      "27:\tlearn: 8.9625539\ttotal: 31.6s\tremaining: 1m 21s\n",
      "28:\tlearn: 8.7774995\ttotal: 32.7s\tremaining: 1m 20s\n",
      "29:\tlearn: 8.6537032\ttotal: 33.9s\tremaining: 1m 19s\n",
      "30:\tlearn: 8.4166391\ttotal: 35s\tremaining: 1m 17s\n",
      "31:\tlearn: 8.2253823\ttotal: 36.2s\tremaining: 1m 16s\n",
      "32:\tlearn: 8.1750207\ttotal: 37.3s\tremaining: 1m 15s\n",
      "33:\tlearn: 8.0676298\ttotal: 38.4s\tremaining: 1m 14s\n",
      "34:\tlearn: 7.8699303\ttotal: 39.5s\tremaining: 1m 13s\n",
      "35:\tlearn: 7.6087179\ttotal: 40.6s\tremaining: 1m 12s\n",
      "36:\tlearn: 7.3131288\ttotal: 41.7s\tremaining: 1m 11s\n",
      "37:\tlearn: 7.2628708\ttotal: 42.9s\tremaining: 1m 9s\n",
      "38:\tlearn: 7.0683408\ttotal: 44s\tremaining: 1m 8s\n",
      "39:\tlearn: 7.0209755\ttotal: 45.1s\tremaining: 1m 7s\n",
      "40:\tlearn: 6.7595301\ttotal: 46.3s\tremaining: 1m 6s\n",
      "41:\tlearn: 6.6584911\ttotal: 47.4s\tremaining: 1m 5s\n",
      "42:\tlearn: 6.5802736\ttotal: 48.5s\tremaining: 1m 4s\n",
      "43:\tlearn: 6.3820962\ttotal: 49.7s\tremaining: 1m 3s\n",
      "44:\tlearn: 6.1367723\ttotal: 50.8s\tremaining: 1m 2s\n",
      "45:\tlearn: 6.0046160\ttotal: 51.9s\tremaining: 1m\n",
      "46:\tlearn: 5.8367338\ttotal: 53s\tremaining: 59.8s\n",
      "47:\tlearn: 5.7409867\ttotal: 54.2s\tremaining: 58.7s\n",
      "48:\tlearn: 5.5133084\ttotal: 55.3s\tremaining: 57.6s\n",
      "49:\tlearn: 5.5032305\ttotal: 55.3s\tremaining: 55.3s\n",
      "50:\tlearn: 5.3512754\ttotal: 56.5s\tremaining: 54.3s\n",
      "51:\tlearn: 5.2651494\ttotal: 57.7s\tremaining: 53.2s\n",
      "52:\tlearn: 5.2094953\ttotal: 58.8s\tremaining: 52.1s\n",
      "53:\tlearn: 5.1402315\ttotal: 60s\tremaining: 51.1s\n",
      "54:\tlearn: 5.0144482\ttotal: 1m 1s\tremaining: 50s\n",
      "55:\tlearn: 4.8755072\ttotal: 1m 2s\tremaining: 49s\n",
      "56:\tlearn: 4.8136135\ttotal: 1m 3s\tremaining: 47.9s\n",
      "57:\tlearn: 4.7029885\ttotal: 1m 4s\tremaining: 46.8s\n",
      "58:\tlearn: 4.6990061\ttotal: 1m 4s\tremaining: 44.9s\n",
      "59:\tlearn: 4.5587315\ttotal: 1m 5s\tremaining: 43.9s\n",
      "60:\tlearn: 4.4522038\ttotal: 1m 6s\tremaining: 42.8s\n",
      "61:\tlearn: 4.3862331\ttotal: 1m 8s\tremaining: 41.7s\n",
      "62:\tlearn: 4.2703122\ttotal: 1m 9s\tremaining: 40.7s\n",
      "63:\tlearn: 4.2120410\ttotal: 1m 10s\tremaining: 39.6s\n",
      "64:\tlearn: 4.1284287\ttotal: 1m 11s\tremaining: 38.5s\n",
      "65:\tlearn: 3.9858617\ttotal: 1m 12s\tremaining: 37.4s\n",
      "66:\tlearn: 3.8792773\ttotal: 1m 13s\tremaining: 36.3s\n",
      "67:\tlearn: 3.7734941\ttotal: 1m 14s\tremaining: 35.3s\n",
      "68:\tlearn: 3.7680714\ttotal: 1m 16s\tremaining: 34.2s\n",
      "69:\tlearn: 3.7434162\ttotal: 1m 17s\tremaining: 33.1s\n",
      "70:\tlearn: 3.6187017\ttotal: 1m 18s\tremaining: 32s\n",
      "71:\tlearn: 3.5310279\ttotal: 1m 19s\tremaining: 30.9s\n",
      "72:\tlearn: 3.4095501\ttotal: 1m 20s\tremaining: 29.8s\n",
      "73:\tlearn: 3.3235042\ttotal: 1m 21s\tremaining: 28.8s\n",
      "74:\tlearn: 3.2718160\ttotal: 1m 22s\tremaining: 27.7s\n",
      "75:\tlearn: 3.2637411\ttotal: 1m 24s\tremaining: 26.6s\n",
      "76:\tlearn: 3.1540340\ttotal: 1m 25s\tremaining: 25.5s\n",
      "77:\tlearn: 3.1139353\ttotal: 1m 26s\tremaining: 24.4s\n",
      "78:\tlearn: 3.1066951\ttotal: 1m 27s\tremaining: 23.3s\n",
      "79:\tlearn: 2.9938139\ttotal: 1m 28s\tremaining: 22.2s\n",
      "80:\tlearn: 2.9068204\ttotal: 1m 29s\tremaining: 21.1s\n",
      "81:\tlearn: 2.9016660\ttotal: 1m 30s\tremaining: 19.8s\n",
      "82:\tlearn: 2.8419945\ttotal: 1m 31s\tremaining: 18.7s\n",
      "83:\tlearn: 2.7991504\ttotal: 1m 32s\tremaining: 17.6s\n",
      "84:\tlearn: 2.7359509\ttotal: 1m 33s\tremaining: 16.5s\n",
      "85:\tlearn: 2.7091789\ttotal: 1m 34s\tremaining: 15.4s\n",
      "86:\tlearn: 2.6504927\ttotal: 1m 35s\tremaining: 14.3s\n",
      "87:\tlearn: 2.5714429\ttotal: 1m 37s\tremaining: 13.2s\n",
      "88:\tlearn: 2.5209276\ttotal: 1m 38s\tremaining: 12.1s\n",
      "89:\tlearn: 2.4939612\ttotal: 1m 39s\tremaining: 11s\n",
      "90:\tlearn: 2.4305272\ttotal: 1m 40s\tremaining: 9.93s\n",
      "91:\tlearn: 2.3673350\ttotal: 1m 41s\tremaining: 8.83s\n",
      "92:\tlearn: 2.3074195\ttotal: 1m 42s\tremaining: 7.72s\n",
      "93:\tlearn: 2.2676049\ttotal: 1m 43s\tremaining: 6.63s\n",
      "94:\tlearn: 2.2002125\ttotal: 1m 44s\tremaining: 5.52s\n",
      "95:\tlearn: 2.1930906\ttotal: 1m 46s\tremaining: 4.42s\n",
      "96:\tlearn: 2.1510719\ttotal: 1m 47s\tremaining: 3.32s\n",
      "97:\tlearn: 2.0761656\ttotal: 1m 48s\tremaining: 2.21s\n",
      "98:\tlearn: 2.0359999\ttotal: 1m 49s\tremaining: 1.1s\n",
      "99:\tlearn: 1.9750117\ttotal: 1m 50s\tremaining: 0us\n",
      "Learning rate set to 0.5\n",
      "0:\tlearn: 30.4842503\ttotal: 1.28s\tremaining: 1m 2s\n",
      "1:\tlearn: 26.3488974\ttotal: 2.58s\tremaining: 1m 1s\n",
      "2:\tlearn: 23.5286207\ttotal: 3.81s\tremaining: 59.7s\n",
      "3:\tlearn: 21.4422477\ttotal: 5.08s\tremaining: 58.4s\n",
      "4:\tlearn: 19.6887831\ttotal: 6.35s\tremaining: 57.1s\n",
      "5:\tlearn: 18.4091662\ttotal: 7.63s\tremaining: 56s\n",
      "6:\tlearn: 17.6217607\ttotal: 8.95s\tremaining: 55s\n",
      "7:\tlearn: 17.1797595\ttotal: 8.98s\tremaining: 47.2s\n",
      "8:\tlearn: 16.2667306\ttotal: 10.2s\tremaining: 46.5s\n",
      "9:\tlearn: 16.2015306\ttotal: 10.2s\tremaining: 40.9s\n",
      "10:\tlearn: 15.5747347\ttotal: 11.5s\tremaining: 40.8s\n",
      "11:\tlearn: 14.7984303\ttotal: 12.8s\tremaining: 40.6s\n",
      "12:\tlearn: 14.3682599\ttotal: 14.1s\tremaining: 40s\n",
      "13:\tlearn: 13.8002830\ttotal: 15.4s\tremaining: 39.5s\n",
      "14:\tlearn: 13.4302295\ttotal: 16.6s\tremaining: 38.8s\n",
      "15:\tlearn: 13.1154388\ttotal: 17.9s\tremaining: 38s\n",
      "16:\tlearn: 12.7268789\ttotal: 19.1s\tremaining: 37.1s\n",
      "17:\tlearn: 12.2532726\ttotal: 20.4s\tremaining: 36.2s\n",
      "18:\tlearn: 11.9924578\ttotal: 21.7s\tremaining: 35.3s\n",
      "19:\tlearn: 11.5057919\ttotal: 22.9s\tremaining: 34.4s\n",
      "20:\tlearn: 11.1506245\ttotal: 24.2s\tremaining: 33.4s\n",
      "21:\tlearn: 10.8304994\ttotal: 25.5s\tremaining: 32.4s\n",
      "22:\tlearn: 10.7926441\ttotal: 26.8s\tremaining: 31.5s\n",
      "23:\tlearn: 10.4278298\ttotal: 28.1s\tremaining: 30.4s\n",
      "24:\tlearn: 10.0059767\ttotal: 29.4s\tremaining: 29.4s\n",
      "25:\tlearn: 9.5519355\ttotal: 30.6s\tremaining: 28.3s\n",
      "26:\tlearn: 9.2804354\ttotal: 31.9s\tremaining: 27.2s\n",
      "27:\tlearn: 9.2467904\ttotal: 33.2s\tremaining: 26.1s\n",
      "28:\tlearn: 8.9237264\ttotal: 34.4s\tremaining: 24.9s\n",
      "29:\tlearn: 8.5997175\ttotal: 35.7s\tremaining: 23.8s\n",
      "30:\tlearn: 8.1578348\ttotal: 36.9s\tremaining: 22.6s\n",
      "31:\tlearn: 7.9119492\ttotal: 38.2s\tremaining: 21.5s\n",
      "32:\tlearn: 7.7122868\ttotal: 39.4s\tremaining: 20.3s\n",
      "33:\tlearn: 7.4381731\ttotal: 40.7s\tremaining: 19.1s\n",
      "34:\tlearn: 7.2763964\ttotal: 42s\tremaining: 18s\n",
      "35:\tlearn: 6.9176523\ttotal: 43.3s\tremaining: 16.8s\n",
      "36:\tlearn: 6.6106403\ttotal: 44.5s\tremaining: 15.6s\n",
      "37:\tlearn: 6.6011478\ttotal: 45.8s\tremaining: 14.5s\n",
      "38:\tlearn: 6.5402867\ttotal: 47s\tremaining: 13.3s\n",
      "39:\tlearn: 6.2646586\ttotal: 48.3s\tremaining: 12.1s\n",
      "40:\tlearn: 5.9831866\ttotal: 49.5s\tremaining: 10.9s\n",
      "41:\tlearn: 5.7980623\ttotal: 50.7s\tremaining: 9.66s\n",
      "42:\tlearn: 5.7582341\ttotal: 50.9s\tremaining: 8.28s\n",
      "43:\tlearn: 5.6258847\ttotal: 52.1s\tremaining: 7.11s\n",
      "44:\tlearn: 5.4424711\ttotal: 53.4s\tremaining: 5.94s\n",
      "45:\tlearn: 5.1355632\ttotal: 54.7s\tremaining: 4.75s\n",
      "46:\tlearn: 5.0484870\ttotal: 55.9s\tremaining: 3.57s\n",
      "47:\tlearn: 4.9707348\ttotal: 57.2s\tremaining: 2.38s\n",
      "48:\tlearn: 4.7457730\ttotal: 58.4s\tremaining: 1.19s\n",
      "49:\tlearn: 4.7409258\ttotal: 58.8s\tremaining: 0us\n",
      "Лучшие гиперпараметры для CatBoost: {'depth': 15, 'iterations': 50}\n",
      "Лучшее значение neg_rmse_scorer для CatBoost: 31.14796128520955\n"
     ]
    }
   ],
   "source": [
    "param_grid_catboost = {\n",
    "    'iterations': [50, 100],\n",
    "    'depth': [10, 15]\n",
    "}\n",
    "\n",
    "catboost = CatBoostRegressor(loss_function='RMSE')\n",
    "\n",
    "grid_search_catboost = GridSearchCV(estimator=catboost, param_grid=param_grid_catboost, cv=tscv, scoring=neg_rmse_scorer)\n",
    "\n",
    "grid_search_catboost.fit(features_train, target_train)\n",
    "\n",
    "best_params_catboost = grid_search_catboost.best_params_\n",
    "print(\"Лучшие гиперпараметры для CatBoost:\", best_params_catboost)\n",
    "best_score_catboost = grid_search_catboost.best_score_\n",
    "print(\"Лучшее значение neg_rmse_scorer для CatBoost:\", best_score_catboost)"
   ]
  },
  {
   "cell_type": "code",
   "execution_count": 32,
   "metadata": {},
   "outputs": [
    {
     "name": "stdout",
     "output_type": "stream",
     "text": [
      "Лучшие гиперпараметры для LightGBM: {'learning_rate': 0.01, 'max_depth': 5, 'n_estimators': 100, 'num_leaves': 20}\n",
      "Лучшее значение neg_rmse_scorer для LightGBM: 32.367102583946235\n"
     ]
    }
   ],
   "source": [
    "param_grid_lgb = {\n",
    "    'n_estimators': [100, 200, 300],\n",
    "    'learning_rate': [0.01, 0.1, 0.2],\n",
    "    'max_depth': [5, 10, 15],\n",
    "    'num_leaves': [20, 30, 40]\n",
    "}\n",
    "\n",
    "lgbm = LGBMRegressor()\n",
    "\n",
    "grid_search_lgb = GridSearchCV(estimator=lgbm, param_grid=param_grid_lgb, cv=tscv, scoring=neg_rmse_scorer)\n",
    "\n",
    "grid_search_lgb.fit(features_train, target_train)\n",
    "\n",
    "best_params_lgb = grid_search_lgb.best_params_\n",
    "print(\"Лучшие гиперпараметры для LightGBM:\", best_params_lgb)\n",
    "\n",
    "best_score_lgb = grid_search_lgb.best_score_\n",
    "print(\"Лучшее значение neg_rmse_scorer для LightGBM:\", best_score_lgb)"
   ]
  },
  {
   "cell_type": "markdown",
   "metadata": {},
   "source": [
    "## Тестирование"
   ]
  },
  {
   "cell_type": "code",
   "execution_count": 40,
   "metadata": {},
   "outputs": [
    {
     "name": "stdout",
     "output_type": "stream",
     "text": [
      "RMSE для случайного леса на тестовых данных: 45.693079964764145\n"
     ]
    }
   ],
   "source": [
    "best_rf = grid_search_rf.best_estimator_\n",
    "target_pred_rf = best_rf.predict(features_test)\n",
    "\n",
    "rmse_rf = np.sqrt(mean_squared_error(target_test, target_pred_rf))\n",
    "print(\"RMSE для случайного леса на тестовых данных:\", rmse_rf)"
   ]
  },
  {
   "cell_type": "code",
   "execution_count": 41,
   "metadata": {},
   "outputs": [
    {
     "data": {
      "image/png": "[encoded data removed]",
      "text/plain": [
       "<Figure size 1080x432 with 1 Axes>"
      ]
     },
     "metadata": {
      "needs_background": "light"
     },
     "output_type": "display_data"
    }
   ],
   "source": [
    "predicted_values = target_pred_rf\n",
    "actual_values = target_test\n",
    "index = range(len(predicted_values))\n",
    "\n",
    "plt.figure(figsize=(15, 6))\n",
    "plt.plot(index, predicted_values, label='Предсказанные значения', linestyle='--', marker='o')\n",
    "plt.plot(index, actual_values, label='Фактические значения', linestyle='-', marker='x')\n",
    "plt.xlabel('Временные шаги')\n",
    "plt.ylabel('Количество заказов')\n",
    "plt.legend()\n",
    "plt.title('Сравнение предсказанных и фактических значений')\n",
    "plt.grid(True)\n",
    "plt.show()"
   ]
  },
  {
   "cell_type": "markdown",
   "metadata": {},
   "source": [
    "**<p style=\"text-align: center;\">Итоговый вывод.</p>**"
   ]
  },
  {
   "cell_type": "markdown",
   "metadata": {},
   "source": [
    "Построены модели для прогнозирования количества заказов такси на следующий час с достигнутым значением RMSE на тестовой выборке, которое соответствует заданному критерию (не больше 48). Использование RandomForestRegressor позволило достичь этой цели, и это может быть полезным решением для компании \"Чётенькое такси\" для оптимизации привлечения водителей в периоды пиковой нагрузки."
   ]
  }
 ],
 "metadata": {
  "ExecuteTimeLog": [
   {
    "duration": 392,
    "start_time": "2023-09-07T07:39:57.770Z"
   },
   {
    "duration": 195,
    "start_time": "2023-09-07T07:40:39.092Z"
   },
   {
    "duration": 21,
    "start_time": "2023-09-07T07:41:45.831Z"
   },
   {
    "duration": 47,
    "start_time": "2023-09-07T07:42:53.372Z"
   },
   {
    "duration": 6,
    "start_time": "2023-09-07T07:42:55.619Z"
   },
   {
    "duration": 400,
    "start_time": "2023-09-07T10:30:55.950Z"
   },
   {
    "duration": 148,
    "start_time": "2023-09-07T10:31:00.152Z"
   },
   {
    "duration": 15,
    "start_time": "2023-09-07T10:31:04.358Z"
   },
   {
    "duration": 47,
    "start_time": "2023-09-07T10:31:23.959Z"
   },
   {
    "duration": 6,
    "start_time": "2023-09-07T10:31:27.983Z"
   },
   {
    "duration": 47,
    "start_time": "2023-09-07T10:31:38.768Z"
   },
   {
    "duration": 9,
    "start_time": "2023-09-07T10:31:43.497Z"
   },
   {
    "duration": 49,
    "start_time": "2023-09-07T10:31:55.567Z"
   },
   {
    "duration": 6,
    "start_time": "2023-09-07T10:31:58.182Z"
   },
   {
    "duration": 440,
    "start_time": "2023-09-07T10:32:15.817Z"
   },
   {
    "duration": 54,
    "start_time": "2023-09-07T10:32:16.259Z"
   },
   {
    "duration": 14,
    "start_time": "2023-09-07T10:32:16.315Z"
   },
   {
    "duration": 10,
    "start_time": "2023-09-07T10:37:35.487Z"
   },
   {
    "duration": 5,
    "start_time": "2023-09-07T10:39:06.167Z"
   },
   {
    "duration": 7,
    "start_time": "2023-09-07T10:58:38.364Z"
   },
   {
    "duration": 8,
    "start_time": "2023-09-07T10:58:53.712Z"
   },
   {
    "duration": 65,
    "start_time": "2023-09-07T11:05:50.340Z"
   },
   {
    "duration": 15,
    "start_time": "2023-09-07T11:06:11.077Z"
   },
   {
    "duration": 3,
    "start_time": "2023-09-07T11:10:28.491Z"
   },
   {
    "duration": 6,
    "start_time": "2023-09-07T11:11:40.409Z"
   },
   {
    "duration": 10,
    "start_time": "2023-09-07T11:17:34.068Z"
   },
   {
    "duration": 7,
    "start_time": "2023-09-07T11:17:44.631Z"
   },
   {
    "duration": 5,
    "start_time": "2023-09-07T11:17:55.966Z"
   },
   {
    "duration": 405,
    "start_time": "2023-09-07T11:18:20.340Z"
   },
   {
    "duration": 48,
    "start_time": "2023-09-07T11:18:20.747Z"
   },
   {
    "duration": 13,
    "start_time": "2023-09-07T11:18:20.797Z"
   },
   {
    "duration": 13,
    "start_time": "2023-09-07T11:18:20.812Z"
   },
   {
    "duration": 31,
    "start_time": "2023-09-07T11:18:20.827Z"
   },
   {
    "duration": 27,
    "start_time": "2023-09-07T11:18:20.859Z"
   },
   {
    "duration": 8,
    "start_time": "2023-09-07T11:18:20.888Z"
   },
   {
    "duration": 17,
    "start_time": "2023-09-07T11:18:20.898Z"
   },
   {
    "duration": 31,
    "start_time": "2023-09-07T11:18:20.917Z"
   },
   {
    "duration": 683,
    "start_time": "2023-09-07T11:22:47.498Z"
   },
   {
    "duration": 115,
    "start_time": "2023-09-07T11:23:11.198Z"
   },
   {
    "duration": 436,
    "start_time": "2023-09-07T11:25:57.864Z"
   },
   {
    "duration": 232,
    "start_time": "2023-09-07T11:26:17.396Z"
   },
   {
    "duration": 8,
    "start_time": "2023-09-07T11:27:29.490Z"
   },
   {
    "duration": 734,
    "start_time": "2023-09-07T11:29:06.452Z"
   },
   {
    "duration": 3,
    "start_time": "2023-09-07T11:29:50.096Z"
   },
   {
    "duration": 925,
    "start_time": "2023-09-07T11:32:33.539Z"
   },
   {
    "duration": 970,
    "start_time": "2023-09-07T11:52:30.968Z"
   },
   {
    "duration": 12,
    "start_time": "2023-09-07T11:59:39.188Z"
   },
   {
    "duration": 11,
    "start_time": "2023-09-07T12:00:08.208Z"
   },
   {
    "duration": 258,
    "start_time": "2023-09-07T12:02:43.387Z"
   },
   {
    "duration": 5,
    "start_time": "2023-09-07T12:05:57.425Z"
   },
   {
    "duration": 1500,
    "start_time": "2023-09-07T12:08:45.757Z"
   },
   {
    "duration": 48,
    "start_time": "2023-09-07T12:08:47.260Z"
   },
   {
    "duration": 13,
    "start_time": "2023-09-07T12:08:47.309Z"
   },
   {
    "duration": 9,
    "start_time": "2023-09-07T12:08:47.324Z"
   },
   {
    "duration": 11,
    "start_time": "2023-09-07T12:08:47.335Z"
   },
   {
    "duration": 13,
    "start_time": "2023-09-07T12:08:47.347Z"
   },
   {
    "duration": 4,
    "start_time": "2023-09-07T12:08:47.362Z"
   },
   {
    "duration": 7,
    "start_time": "2023-09-07T12:08:47.367Z"
   },
   {
    "duration": 14,
    "start_time": "2023-09-07T12:08:47.376Z"
   },
   {
    "duration": 244,
    "start_time": "2023-09-07T12:08:47.393Z"
   },
   {
    "duration": 917,
    "start_time": "2023-09-07T12:08:47.639Z"
   },
   {
    "duration": 11,
    "start_time": "2023-09-07T12:08:48.558Z"
   },
   {
    "duration": 11,
    "start_time": "2023-09-07T12:08:48.570Z"
   },
   {
    "duration": 10,
    "start_time": "2023-09-07T12:08:48.583Z"
   },
   {
    "duration": 67,
    "start_time": "2023-09-07T12:11:46.238Z"
   },
   {
    "duration": 8,
    "start_time": "2023-09-07T12:19:04.863Z"
   },
   {
    "duration": 18,
    "start_time": "2023-09-07T12:19:08.692Z"
   },
   {
    "duration": 1577,
    "start_time": "2023-09-07T12:19:17.769Z"
   },
   {
    "duration": 49,
    "start_time": "2023-09-07T12:19:19.348Z"
   },
   {
    "duration": 10,
    "start_time": "2023-09-07T12:19:19.398Z"
   },
   {
    "duration": 18,
    "start_time": "2023-09-07T12:19:19.410Z"
   },
   {
    "duration": 22,
    "start_time": "2023-09-07T12:19:19.430Z"
   },
   {
    "duration": 16,
    "start_time": "2023-09-07T12:19:19.454Z"
   },
   {
    "duration": 4,
    "start_time": "2023-09-07T12:19:19.472Z"
   },
   {
    "duration": 7,
    "start_time": "2023-09-07T12:19:19.477Z"
   },
   {
    "duration": 5,
    "start_time": "2023-09-07T12:19:19.486Z"
   },
   {
    "duration": 331,
    "start_time": "2023-09-07T12:19:19.493Z"
   },
   {
    "duration": 844,
    "start_time": "2023-09-07T12:19:19.825Z"
   },
   {
    "duration": 12,
    "start_time": "2023-09-07T12:19:20.670Z"
   },
   {
    "duration": 36,
    "start_time": "2023-09-07T12:19:20.683Z"
   },
   {
    "duration": 24,
    "start_time": "2023-09-07T12:19:20.721Z"
   },
   {
    "duration": 143,
    "start_time": "2023-09-07T12:19:20.746Z"
   },
   {
    "duration": 1709,
    "start_time": "2023-09-07T12:20:42.484Z"
   },
   {
    "duration": 52,
    "start_time": "2023-09-07T12:20:44.196Z"
   },
   {
    "duration": 12,
    "start_time": "2023-09-07T12:20:44.250Z"
   },
   {
    "duration": 12,
    "start_time": "2023-09-07T12:20:44.264Z"
   },
   {
    "duration": 10,
    "start_time": "2023-09-07T12:20:44.278Z"
   },
   {
    "duration": 16,
    "start_time": "2023-09-07T12:20:44.290Z"
   },
   {
    "duration": 4,
    "start_time": "2023-09-07T12:20:44.308Z"
   },
   {
    "duration": 15,
    "start_time": "2023-09-07T12:20:44.345Z"
   },
   {
    "duration": 6,
    "start_time": "2023-09-07T12:20:44.362Z"
   },
   {
    "duration": 336,
    "start_time": "2023-09-07T12:20:44.370Z"
   },
   {
    "duration": 963,
    "start_time": "2023-09-07T12:20:44.708Z"
   },
   {
    "duration": 11,
    "start_time": "2023-09-07T12:20:45.673Z"
   },
   {
    "duration": 12,
    "start_time": "2023-09-07T12:20:45.685Z"
   },
   {
    "duration": 5,
    "start_time": "2023-09-07T12:20:45.699Z"
   },
   {
    "duration": 146,
    "start_time": "2023-09-07T12:20:45.705Z"
   },
   {
    "duration": 14,
    "start_time": "2023-09-07T12:29:43.822Z"
   },
   {
    "duration": 7,
    "start_time": "2023-09-07T12:31:06.309Z"
   },
   {
    "duration": 1449,
    "start_time": "2023-09-07T12:31:25.099Z"
   },
   {
    "duration": 46,
    "start_time": "2023-09-07T12:31:26.550Z"
   },
   {
    "duration": 9,
    "start_time": "2023-09-07T12:31:26.598Z"
   },
   {
    "duration": 20,
    "start_time": "2023-09-07T12:31:26.608Z"
   },
   {
    "duration": 7,
    "start_time": "2023-09-07T12:31:26.630Z"
   },
   {
    "duration": 28,
    "start_time": "2023-09-07T12:31:26.638Z"
   },
   {
    "duration": 12,
    "start_time": "2023-09-07T12:31:26.667Z"
   },
   {
    "duration": 18,
    "start_time": "2023-09-07T12:31:26.680Z"
   },
   {
    "duration": 8,
    "start_time": "2023-09-07T12:31:26.699Z"
   },
   {
    "duration": 288,
    "start_time": "2023-09-07T12:31:26.709Z"
   },
   {
    "duration": 792,
    "start_time": "2023-09-07T12:31:26.999Z"
   },
   {
    "duration": 11,
    "start_time": "2023-09-07T12:31:27.793Z"
   },
   {
    "duration": 11,
    "start_time": "2023-09-07T12:31:27.806Z"
   },
   {
    "duration": 12,
    "start_time": "2023-09-07T12:31:27.818Z"
   },
   {
    "duration": 121,
    "start_time": "2023-09-07T12:31:27.843Z"
   },
   {
    "duration": 9,
    "start_time": "2023-09-07T12:31:53.756Z"
   },
   {
    "duration": 1805,
    "start_time": "2023-09-08T06:09:49.040Z"
   },
   {
    "duration": 155,
    "start_time": "2023-09-08T06:09:50.847Z"
   },
   {
    "duration": 87,
    "start_time": "2023-09-08T06:09:51.004Z"
   },
   {
    "duration": 9,
    "start_time": "2023-09-08T06:09:51.093Z"
   },
   {
    "duration": 24,
    "start_time": "2023-09-08T06:09:51.104Z"
   },
   {
    "duration": 23,
    "start_time": "2023-09-08T06:09:51.130Z"
   },
   {
    "duration": 6,
    "start_time": "2023-09-08T06:09:51.155Z"
   },
   {
    "duration": 5,
    "start_time": "2023-09-08T06:09:51.162Z"
   },
   {
    "duration": 10,
    "start_time": "2023-09-08T06:09:51.169Z"
   },
   {
    "duration": 248,
    "start_time": "2023-09-08T06:09:51.181Z"
   },
   {
    "duration": 935,
    "start_time": "2023-09-08T06:09:51.431Z"
   },
   {
    "duration": 11,
    "start_time": "2023-09-08T06:09:52.368Z"
   },
   {
    "duration": 13,
    "start_time": "2023-09-08T06:09:52.381Z"
   },
   {
    "duration": 20,
    "start_time": "2023-09-08T06:09:52.395Z"
   },
   {
    "duration": 1540,
    "start_time": "2023-09-08T06:13:52.489Z"
   },
   {
    "duration": 57,
    "start_time": "2023-09-08T06:13:54.032Z"
   },
   {
    "duration": 13,
    "start_time": "2023-09-08T06:13:54.091Z"
   },
   {
    "duration": 12,
    "start_time": "2023-09-08T06:13:54.108Z"
   },
   {
    "duration": 11,
    "start_time": "2023-09-08T06:13:54.122Z"
   },
   {
    "duration": 22,
    "start_time": "2023-09-08T06:13:54.135Z"
   },
   {
    "duration": 5,
    "start_time": "2023-09-08T06:13:54.159Z"
   },
   {
    "duration": 5,
    "start_time": "2023-09-08T06:13:54.166Z"
   },
   {
    "duration": 13,
    "start_time": "2023-09-08T06:13:54.172Z"
   },
   {
    "duration": 328,
    "start_time": "2023-09-08T06:13:54.186Z"
   },
   {
    "duration": 887,
    "start_time": "2023-09-08T06:13:54.515Z"
   },
   {
    "duration": 12,
    "start_time": "2023-09-08T06:13:55.404Z"
   },
   {
    "duration": 27,
    "start_time": "2023-09-08T06:13:55.417Z"
   },
   {
    "duration": 7,
    "start_time": "2023-09-08T06:13:55.446Z"
   },
   {
    "duration": 928,
    "start_time": "2023-09-08T06:13:55.455Z"
   },
   {
    "duration": 1598,
    "start_time": "2023-09-08T06:15:21.338Z"
   },
   {
    "duration": 125,
    "start_time": "2023-09-08T06:15:52.989Z"
   },
   {
    "duration": 1552,
    "start_time": "2023-09-08T06:16:04.788Z"
   },
   {
    "duration": 50,
    "start_time": "2023-09-08T06:16:06.343Z"
   },
   {
    "duration": 9,
    "start_time": "2023-09-08T06:16:06.395Z"
   },
   {
    "duration": 24,
    "start_time": "2023-09-08T06:16:06.406Z"
   },
   {
    "duration": 7,
    "start_time": "2023-09-08T06:16:06.432Z"
   },
   {
    "duration": 12,
    "start_time": "2023-09-08T06:16:06.441Z"
   },
   {
    "duration": 32,
    "start_time": "2023-09-08T06:16:06.454Z"
   },
   {
    "duration": 17,
    "start_time": "2023-09-08T06:16:06.487Z"
   },
   {
    "duration": 19,
    "start_time": "2023-09-08T06:16:06.506Z"
   },
   {
    "duration": 322,
    "start_time": "2023-09-08T06:16:06.527Z"
   },
   {
    "duration": 887,
    "start_time": "2023-09-08T06:16:06.851Z"
   },
   {
    "duration": 15,
    "start_time": "2023-09-08T06:16:07.739Z"
   },
   {
    "duration": 11,
    "start_time": "2023-09-08T06:16:07.756Z"
   },
   {
    "duration": 6,
    "start_time": "2023-09-08T06:16:07.769Z"
   },
   {
    "duration": 21472,
    "start_time": "2023-09-08T06:16:07.777Z"
   },
   {
    "duration": 52365,
    "start_time": "2023-09-08T06:25:07.498Z"
   },
   {
    "duration": 47925,
    "start_time": "2023-09-08T06:42:23.122Z"
   },
   {
    "duration": 154,
    "start_time": "2023-09-08T06:56:22.131Z"
   },
   {
    "duration": 3,
    "start_time": "2023-09-08T06:56:45.616Z"
   },
   {
    "duration": 16,
    "start_time": "2023-09-08T06:56:50.185Z"
   },
   {
    "duration": 14,
    "start_time": "2023-09-08T07:05:14.401Z"
   },
   {
    "duration": 50,
    "start_time": "2023-09-08T07:06:11.939Z"
   },
   {
    "duration": 748,
    "start_time": "2023-09-08T07:06:54.810Z"
   },
   {
    "duration": 61384,
    "start_time": "2023-09-08T07:07:14.646Z"
   },
   {
    "duration": 5,
    "start_time": "2023-09-08T07:14:29.209Z"
   },
   {
    "duration": 15,
    "start_time": "2023-09-08T07:14:42.882Z"
   },
   {
    "duration": 5,
    "start_time": "2023-09-08T07:15:27.033Z"
   },
   {
    "duration": 848,
    "start_time": "2023-09-08T07:15:43.727Z"
   },
   {
    "duration": 722,
    "start_time": "2023-09-08T07:16:32.126Z"
   },
   {
    "duration": 32,
    "start_time": "2023-09-08T07:19:36.324Z"
   },
   {
    "duration": 5,
    "start_time": "2023-09-08T07:20:26.952Z"
   },
   {
    "duration": 17,
    "start_time": "2023-09-08T07:20:41.542Z"
   },
   {
    "duration": 40514,
    "start_time": "2023-09-08T07:21:24.947Z"
   },
   {
    "duration": 16,
    "start_time": "2023-09-08T07:23:12.991Z"
   },
   {
    "duration": 41734,
    "start_time": "2023-09-08T07:24:05.722Z"
   },
   {
    "duration": 952,
    "start_time": "2023-09-08T07:24:55.393Z"
   },
   {
    "duration": 37345,
    "start_time": "2023-09-08T07:25:03.423Z"
   },
   {
    "duration": 16,
    "start_time": "2023-09-08T07:26:53.925Z"
   },
   {
    "duration": 16,
    "start_time": "2023-09-08T07:28:30.728Z"
   },
   {
    "duration": 17,
    "start_time": "2023-09-08T07:29:04.990Z"
   },
   {
    "duration": 12037,
    "start_time": "2023-09-08T07:29:47.610Z"
   },
   {
    "duration": 27,
    "start_time": "2023-09-08T07:30:06.163Z"
   },
   {
    "duration": 14405,
    "start_time": "2023-09-08T07:30:42.895Z"
   },
   {
    "duration": 56,
    "start_time": "2023-09-08T07:31:23.868Z"
   },
   {
    "duration": 34229,
    "start_time": "2023-09-08T07:31:43.347Z"
   },
   {
    "duration": 2279,
    "start_time": "2023-09-08T07:35:26.182Z"
   },
   {
    "duration": 1711,
    "start_time": "2023-09-08T07:35:28.464Z"
   },
   {
    "duration": 47,
    "start_time": "2023-09-08T07:35:30.177Z"
   },
   {
    "duration": 14,
    "start_time": "2023-09-08T07:35:30.226Z"
   },
   {
    "duration": 16,
    "start_time": "2023-09-08T07:35:30.242Z"
   },
   {
    "duration": 9,
    "start_time": "2023-09-08T07:35:30.260Z"
   },
   {
    "duration": 23,
    "start_time": "2023-09-08T07:35:30.271Z"
   },
   {
    "duration": 25,
    "start_time": "2023-09-08T07:35:30.296Z"
   },
   {
    "duration": 18,
    "start_time": "2023-09-08T07:35:30.322Z"
   },
   {
    "duration": 21,
    "start_time": "2023-09-08T07:35:30.341Z"
   },
   {
    "duration": 260,
    "start_time": "2023-09-08T07:35:30.364Z"
   },
   {
    "duration": 925,
    "start_time": "2023-09-08T07:35:30.625Z"
   },
   {
    "duration": 13,
    "start_time": "2023-09-08T07:35:31.552Z"
   },
   {
    "duration": 25,
    "start_time": "2023-09-08T07:35:31.567Z"
   },
   {
    "duration": 39,
    "start_time": "2023-09-08T07:35:31.594Z"
   },
   {
    "duration": 48118,
    "start_time": "2023-09-08T07:35:31.634Z"
   },
   {
    "duration": 95,
    "start_time": "2023-09-08T07:36:19.754Z"
   },
   {
    "duration": 65975,
    "start_time": "2023-09-08T07:36:19.852Z"
   },
   {
    "duration": 23150,
    "start_time": "2023-09-08T07:37:25.828Z"
   },
   {
    "duration": 2510,
    "start_time": "2023-09-08T07:46:40.791Z"
   },
   {
    "duration": 55,
    "start_time": "2023-09-08T07:48:34.471Z"
   },
   {
    "duration": 692,
    "start_time": "2023-09-08T07:48:47.165Z"
   },
   {
    "duration": 3,
    "start_time": "2023-09-08T07:50:55.473Z"
   },
   {
    "duration": 151,
    "start_time": "2023-09-08T07:51:08.634Z"
   },
   {
    "duration": 5,
    "start_time": "2023-09-08T07:51:27.851Z"
   },
   {
    "duration": 593149,
    "start_time": "2023-09-08T07:51:34.298Z"
   },
   {
    "duration": 57,
    "start_time": "2023-09-08T11:15:06.467Z"
   },
   {
    "duration": 14892,
    "start_time": "2023-09-08T11:15:23.106Z"
   },
   {
    "duration": 2733,
    "start_time": "2023-09-08T11:15:38.001Z"
   },
   {
    "duration": 1371,
    "start_time": "2023-09-08T11:15:40.736Z"
   },
   {
    "duration": 0,
    "start_time": "2023-09-08T11:15:42.111Z"
   },
   {
    "duration": 0,
    "start_time": "2023-09-08T11:15:42.112Z"
   },
   {
    "duration": 0,
    "start_time": "2023-09-08T11:15:42.115Z"
   },
   {
    "duration": 1,
    "start_time": "2023-09-08T11:15:42.116Z"
   },
   {
    "duration": 0,
    "start_time": "2023-09-08T11:15:42.119Z"
   },
   {
    "duration": 0,
    "start_time": "2023-09-08T11:15:42.120Z"
   },
   {
    "duration": 0,
    "start_time": "2023-09-08T11:15:42.122Z"
   },
   {
    "duration": 0,
    "start_time": "2023-09-08T11:15:42.124Z"
   },
   {
    "duration": 0,
    "start_time": "2023-09-08T11:15:42.125Z"
   },
   {
    "duration": 0,
    "start_time": "2023-09-08T11:15:42.126Z"
   },
   {
    "duration": 0,
    "start_time": "2023-09-08T11:15:42.147Z"
   },
   {
    "duration": 0,
    "start_time": "2023-09-08T11:15:42.149Z"
   },
   {
    "duration": 0,
    "start_time": "2023-09-08T11:15:42.150Z"
   },
   {
    "duration": 2755,
    "start_time": "2023-09-08T11:16:19.372Z"
   },
   {
    "duration": 2737,
    "start_time": "2023-09-08T11:16:22.130Z"
   },
   {
    "duration": 2284,
    "start_time": "2023-09-08T11:16:24.869Z"
   },
   {
    "duration": 222,
    "start_time": "2023-09-08T11:16:27.156Z"
   },
   {
    "duration": 12,
    "start_time": "2023-09-08T11:16:27.381Z"
   },
   {
    "duration": 11,
    "start_time": "2023-09-08T11:16:27.394Z"
   },
   {
    "duration": 18,
    "start_time": "2023-09-08T11:16:27.407Z"
   },
   {
    "duration": 22,
    "start_time": "2023-09-08T11:16:27.427Z"
   },
   {
    "duration": 12,
    "start_time": "2023-09-08T11:16:27.453Z"
   },
   {
    "duration": 34,
    "start_time": "2023-09-08T11:16:27.470Z"
   },
   {
    "duration": 6,
    "start_time": "2023-09-08T11:16:27.506Z"
   },
   {
    "duration": 329,
    "start_time": "2023-09-08T11:16:27.514Z"
   },
   {
    "duration": 186,
    "start_time": "2023-09-08T11:16:27.847Z"
   },
   {
    "duration": 0,
    "start_time": "2023-09-08T11:16:28.035Z"
   },
   {
    "duration": 0,
    "start_time": "2023-09-08T11:16:28.036Z"
   },
   {
    "duration": 0,
    "start_time": "2023-09-08T11:16:28.037Z"
   },
   {
    "duration": 13,
    "start_time": "2023-09-08T11:17:04.705Z"
   },
   {
    "duration": 4,
    "start_time": "2023-09-08T11:19:01.386Z"
   },
   {
    "duration": 2865,
    "start_time": "2023-09-08T11:19:49.822Z"
   },
   {
    "duration": 2793,
    "start_time": "2023-09-08T11:19:52.690Z"
   },
   {
    "duration": 2024,
    "start_time": "2023-09-08T11:19:55.486Z"
   },
   {
    "duration": 2999,
    "start_time": "2023-09-08T11:20:15.399Z"
   },
   {
    "duration": 2972,
    "start_time": "2023-09-08T11:20:18.400Z"
   },
   {
    "duration": 2116,
    "start_time": "2023-09-08T11:20:21.375Z"
   },
   {
    "duration": 60,
    "start_time": "2023-09-08T11:20:23.493Z"
   },
   {
    "duration": 19,
    "start_time": "2023-09-08T11:20:23.558Z"
   },
   {
    "duration": 17,
    "start_time": "2023-09-08T11:20:23.580Z"
   },
   {
    "duration": 11,
    "start_time": "2023-09-08T11:20:23.599Z"
   },
   {
    "duration": 49,
    "start_time": "2023-09-08T11:20:23.611Z"
   },
   {
    "duration": 7,
    "start_time": "2023-09-08T11:20:23.667Z"
   },
   {
    "duration": 6,
    "start_time": "2023-09-08T11:20:23.677Z"
   },
   {
    "duration": 17,
    "start_time": "2023-09-08T11:20:23.685Z"
   },
   {
    "duration": 353,
    "start_time": "2023-09-08T11:20:23.704Z"
   },
   {
    "duration": 1152,
    "start_time": "2023-09-08T11:20:24.062Z"
   },
   {
    "duration": 30,
    "start_time": "2023-09-08T11:20:25.218Z"
   },
   {
    "duration": 41,
    "start_time": "2023-09-08T11:20:25.250Z"
   },
   {
    "duration": 14,
    "start_time": "2023-09-08T11:20:25.293Z"
   },
   {
    "duration": 58901,
    "start_time": "2023-09-08T11:20:34.987Z"
   },
   {
    "duration": 2748,
    "start_time": "2023-09-08T11:33:44.192Z"
   },
   {
    "duration": 2776,
    "start_time": "2023-09-08T11:33:46.942Z"
   },
   {
    "duration": 2065,
    "start_time": "2023-09-08T11:33:49.720Z"
   },
   {
    "duration": 53,
    "start_time": "2023-09-08T11:33:51.786Z"
   },
   {
    "duration": 17,
    "start_time": "2023-09-08T11:33:51.841Z"
   },
   {
    "duration": 18,
    "start_time": "2023-09-08T11:33:51.868Z"
   },
   {
    "duration": 10,
    "start_time": "2023-09-08T11:33:51.887Z"
   },
   {
    "duration": 15,
    "start_time": "2023-09-08T11:33:51.899Z"
   },
   {
    "duration": 4,
    "start_time": "2023-09-08T11:33:51.916Z"
   },
   {
    "duration": 7,
    "start_time": "2023-09-08T11:33:51.948Z"
   },
   {
    "duration": 15,
    "start_time": "2023-09-08T11:33:51.956Z"
   },
   {
    "duration": 346,
    "start_time": "2023-09-08T11:33:51.973Z"
   },
   {
    "duration": 1102,
    "start_time": "2023-09-08T11:33:52.321Z"
   },
   {
    "duration": 38,
    "start_time": "2023-09-08T11:33:53.426Z"
   },
   {
    "duration": 16,
    "start_time": "2023-09-08T11:33:53.473Z"
   },
   {
    "duration": 16,
    "start_time": "2023-09-08T11:33:53.491Z"
   },
   {
    "duration": 58993,
    "start_time": "2023-09-08T11:33:53.509Z"
   },
   {
    "duration": 53,
    "start_time": "2023-09-08T11:34:52.504Z"
   },
   {
    "duration": 76949,
    "start_time": "2023-09-08T11:34:52.559Z"
   },
   {
    "duration": 184,
    "start_time": "2023-09-08T11:36:09.510Z"
   },
   {
    "duration": 0,
    "start_time": "2023-09-08T11:36:09.695Z"
   },
   {
    "duration": 0,
    "start_time": "2023-09-08T11:36:09.697Z"
   },
   {
    "duration": 0,
    "start_time": "2023-09-08T11:36:09.698Z"
   },
   {
    "duration": 0,
    "start_time": "2023-09-08T11:36:09.699Z"
   },
   {
    "duration": 0,
    "start_time": "2023-09-08T11:36:09.700Z"
   },
   {
    "duration": 0,
    "start_time": "2023-09-08T11:36:09.701Z"
   },
   {
    "duration": 0,
    "start_time": "2023-09-08T11:36:09.702Z"
   },
   {
    "duration": 0,
    "start_time": "2023-09-08T11:36:09.703Z"
   },
   {
    "duration": 7,
    "start_time": "2023-09-08T11:38:18.358Z"
   },
   {
    "duration": 35513,
    "start_time": "2023-09-08T11:38:25.980Z"
   },
   {
    "duration": 58715,
    "start_time": "2023-09-08T11:39:09.453Z"
   },
   {
    "duration": 2720,
    "start_time": "2023-09-08T11:40:15.866Z"
   },
   {
    "duration": 2677,
    "start_time": "2023-09-08T11:40:18.588Z"
   },
   {
    "duration": 1973,
    "start_time": "2023-09-08T11:40:21.267Z"
   },
   {
    "duration": 55,
    "start_time": "2023-09-08T11:40:23.242Z"
   },
   {
    "duration": 11,
    "start_time": "2023-09-08T11:40:23.299Z"
   },
   {
    "duration": 14,
    "start_time": "2023-09-08T11:40:23.311Z"
   },
   {
    "duration": 9,
    "start_time": "2023-09-08T11:40:23.327Z"
   },
   {
    "duration": 19,
    "start_time": "2023-09-08T11:40:23.337Z"
   },
   {
    "duration": 11,
    "start_time": "2023-09-08T11:40:23.359Z"
   },
   {
    "duration": 5,
    "start_time": "2023-09-08T11:40:23.372Z"
   },
   {
    "duration": 11,
    "start_time": "2023-09-08T11:40:23.379Z"
   },
   {
    "duration": 338,
    "start_time": "2023-09-08T11:40:23.393Z"
   },
   {
    "duration": 1066,
    "start_time": "2023-09-08T11:40:23.733Z"
   },
   {
    "duration": 14,
    "start_time": "2023-09-08T11:40:24.802Z"
   },
   {
    "duration": 13,
    "start_time": "2023-09-08T11:40:24.817Z"
   },
   {
    "duration": 27,
    "start_time": "2023-09-08T11:40:24.832Z"
   },
   {
    "duration": 55061,
    "start_time": "2023-09-08T11:40:24.862Z"
   },
   {
    "duration": 32,
    "start_time": "2023-09-08T11:41:19.925Z"
   },
   {
    "duration": 72831,
    "start_time": "2023-09-08T11:41:19.959Z"
   },
   {
    "duration": 34889,
    "start_time": "2023-09-08T11:42:32.791Z"
   },
   {
    "duration": 63367,
    "start_time": "2023-09-08T11:43:07.682Z"
   },
   {
    "duration": 1344791,
    "start_time": "2023-09-08T11:44:11.057Z"
   },
   {
    "duration": 189,
    "start_time": "2023-09-08T12:06:35.850Z"
   },
   {
    "duration": 0,
    "start_time": "2023-09-08T12:06:36.046Z"
   },
   {
    "duration": 0,
    "start_time": "2023-09-08T12:06:36.048Z"
   },
   {
    "duration": 0,
    "start_time": "2023-09-08T12:06:36.049Z"
   },
   {
    "duration": 0,
    "start_time": "2023-09-08T12:06:36.050Z"
   },
   {
    "duration": 0,
    "start_time": "2023-09-08T12:06:36.051Z"
   },
   {
    "duration": 4,
    "start_time": "2023-09-08T12:15:30.559Z"
   },
   {
    "duration": 4,
    "start_time": "2023-09-08T12:15:39.028Z"
   },
   {
    "duration": 5,
    "start_time": "2023-09-08T12:15:49.130Z"
   },
   {
    "duration": 4,
    "start_time": "2023-09-08T12:16:01.492Z"
   },
   {
    "duration": 5,
    "start_time": "2023-09-08T12:16:14.605Z"
   },
   {
    "duration": 5,
    "start_time": "2023-09-08T12:16:18.226Z"
   },
   {
    "duration": 233,
    "start_time": "2023-09-08T12:20:42.652Z"
   },
   {
    "duration": 2554,
    "start_time": "2023-09-08T12:42:30.470Z"
   },
   {
    "duration": 2486,
    "start_time": "2023-09-08T12:42:33.026Z"
   },
   {
    "duration": 1926,
    "start_time": "2023-09-08T12:42:35.515Z"
   },
   {
    "duration": 53,
    "start_time": "2023-09-08T12:42:37.443Z"
   },
   {
    "duration": 17,
    "start_time": "2023-09-08T12:42:37.498Z"
   },
   {
    "duration": 25,
    "start_time": "2023-09-08T12:42:37.517Z"
   },
   {
    "duration": 14,
    "start_time": "2023-09-08T12:42:37.543Z"
   },
   {
    "duration": 32,
    "start_time": "2023-09-08T12:42:37.560Z"
   },
   {
    "duration": 4,
    "start_time": "2023-09-08T12:42:37.593Z"
   },
   {
    "duration": 6,
    "start_time": "2023-09-08T12:42:37.600Z"
   },
   {
    "duration": 9,
    "start_time": "2023-09-08T12:42:37.608Z"
   },
   {
    "duration": 301,
    "start_time": "2023-09-08T12:42:37.619Z"
   },
   {
    "duration": 1028,
    "start_time": "2023-09-08T12:42:37.922Z"
   },
   {
    "duration": 15,
    "start_time": "2023-09-08T12:42:38.953Z"
   },
   {
    "duration": 25,
    "start_time": "2023-09-08T12:42:38.970Z"
   },
   {
    "duration": 21,
    "start_time": "2023-09-08T12:42:38.997Z"
   },
   {
    "duration": 54104,
    "start_time": "2023-09-08T12:42:39.020Z"
   },
   {
    "duration": 124,
    "start_time": "2023-09-08T12:43:33.126Z"
   },
   {
    "duration": 68251,
    "start_time": "2023-09-08T12:43:33.254Z"
   },
   {
    "duration": 23750,
    "start_time": "2023-09-08T12:44:41.507Z"
   },
   {
    "duration": 1105,
    "start_time": "2023-09-08T12:45:05.259Z"
   },
   {
    "duration": 348594,
    "start_time": "2023-09-08T12:45:06.366Z"
   },
   {
    "duration": 4,
    "start_time": "2023-09-08T12:50:54.961Z"
   },
   {
    "duration": 86,
    "start_time": "2023-09-08T12:50:54.967Z"
   },
   {
    "duration": 6,
    "start_time": "2023-09-08T12:50:55.055Z"
   },
   {
    "duration": 36,
    "start_time": "2023-09-08T12:50:55.063Z"
   },
   {
    "duration": 58,
    "start_time": "2023-09-08T12:50:55.101Z"
   },
   {
    "duration": 28,
    "start_time": "2023-09-08T12:50:55.163Z"
   },
   {
    "duration": 294,
    "start_time": "2023-09-08T12:50:55.192Z"
   },
   {
    "duration": 11580,
    "start_time": "2023-09-08T13:57:45.536Z"
   },
   {
    "duration": 2459,
    "start_time": "2023-09-08T13:57:57.119Z"
   },
   {
    "duration": 3099,
    "start_time": "2023-09-08T13:57:59.581Z"
   },
   {
    "duration": 116,
    "start_time": "2023-09-08T13:58:02.682Z"
   },
   {
    "duration": 11,
    "start_time": "2023-09-08T13:58:02.800Z"
   },
   {
    "duration": 39,
    "start_time": "2023-09-08T13:58:02.813Z"
   },
   {
    "duration": 49,
    "start_time": "2023-09-08T13:58:02.854Z"
   },
   {
    "duration": 32,
    "start_time": "2023-09-08T13:58:02.904Z"
   },
   {
    "duration": 31,
    "start_time": "2023-09-08T13:58:02.937Z"
   },
   {
    "duration": 23,
    "start_time": "2023-09-08T13:58:02.971Z"
   },
   {
    "duration": 14,
    "start_time": "2023-09-08T13:58:02.996Z"
   },
   {
    "duration": 283,
    "start_time": "2023-09-08T13:58:03.012Z"
   },
   {
    "duration": 917,
    "start_time": "2023-09-08T13:58:03.297Z"
   },
   {
    "duration": 13,
    "start_time": "2023-09-08T13:58:04.215Z"
   },
   {
    "duration": 16,
    "start_time": "2023-09-08T13:58:04.230Z"
   },
   {
    "duration": 22,
    "start_time": "2023-09-08T13:58:04.248Z"
   },
   {
    "duration": 47458,
    "start_time": "2023-09-08T13:58:04.272Z"
   },
   {
    "duration": 12,
    "start_time": "2023-09-08T13:58:51.731Z"
   },
   {
    "duration": 62936,
    "start_time": "2023-09-08T13:58:51.781Z"
   },
   {
    "duration": 28696,
    "start_time": "2023-09-08T13:59:54.719Z"
   },
   {
    "duration": 84070,
    "start_time": "2023-09-08T14:00:23.418Z"
   },
   {
    "duration": 289295,
    "start_time": "2023-09-08T14:01:47.491Z"
   },
   {
    "duration": 4,
    "start_time": "2023-09-08T14:06:36.788Z"
   },
   {
    "duration": 12,
    "start_time": "2023-09-08T14:06:36.794Z"
   },
   {
    "duration": 9,
    "start_time": "2023-09-08T14:06:36.808Z"
   },
   {
    "duration": 11,
    "start_time": "2023-09-08T14:06:36.819Z"
   },
   {
    "duration": 7,
    "start_time": "2023-09-08T14:06:36.882Z"
   },
   {
    "duration": 15,
    "start_time": "2023-09-08T14:06:36.893Z"
   },
   {
    "duration": 247,
    "start_time": "2023-09-08T14:06:36.910Z"
   },
   {
    "duration": 79,
    "start_time": "2023-09-09T12:35:52.758Z"
   },
   {
    "duration": 1808,
    "start_time": "2023-09-09T12:37:18.979Z"
   },
   {
    "duration": 3,
    "start_time": "2023-09-09T12:38:23.401Z"
   },
   {
    "duration": 10938,
    "start_time": "2023-09-09T12:38:27.628Z"
   },
   {
    "duration": 2186,
    "start_time": "2023-09-09T12:39:26.890Z"
   },
   {
    "duration": 2193,
    "start_time": "2023-09-09T12:39:42.571Z"
   },
   {
    "duration": 5,
    "start_time": "2023-09-09T12:40:05.934Z"
   },
   {
    "duration": 2278,
    "start_time": "2023-09-09T12:40:09.016Z"
   },
   {
    "duration": 2320,
    "start_time": "2023-09-09T12:40:20.018Z"
   },
   {
    "duration": 3,
    "start_time": "2023-09-09T12:40:30.446Z"
   },
   {
    "duration": 4,
    "start_time": "2023-09-09T12:44:50.010Z"
   },
   {
    "duration": 2261,
    "start_time": "2023-09-09T12:44:50.017Z"
   },
   {
    "duration": 3,
    "start_time": "2023-09-09T12:44:52.280Z"
   },
   {
    "duration": 1882,
    "start_time": "2023-09-09T12:44:52.285Z"
   },
   {
    "duration": 117,
    "start_time": "2023-09-09T12:44:54.170Z"
   },
   {
    "duration": 13,
    "start_time": "2023-09-09T12:44:54.289Z"
   },
   {
    "duration": 13,
    "start_time": "2023-09-09T12:44:54.303Z"
   },
   {
    "duration": 12,
    "start_time": "2023-09-09T12:44:54.318Z"
   },
   {
    "duration": 3,
    "start_time": "2023-09-09T12:45:38.526Z"
   },
   {
    "duration": 470,
    "start_time": "2023-09-09T12:48:54.136Z"
   },
   {
    "duration": 337,
    "start_time": "2023-09-09T12:49:13.499Z"
   },
   {
    "duration": 438,
    "start_time": "2023-09-09T12:49:46.456Z"
   },
   {
    "duration": 3,
    "start_time": "2023-09-09T12:51:53.629Z"
   },
   {
    "duration": 2286,
    "start_time": "2023-09-09T12:51:53.634Z"
   },
   {
    "duration": 3,
    "start_time": "2023-09-09T12:51:55.923Z"
   },
   {
    "duration": 1785,
    "start_time": "2023-09-09T12:51:55.928Z"
   },
   {
    "duration": 53,
    "start_time": "2023-09-09T12:51:57.715Z"
   },
   {
    "duration": 11,
    "start_time": "2023-09-09T12:51:57.770Z"
   },
   {
    "duration": 12,
    "start_time": "2023-09-09T12:51:57.783Z"
   },
   {
    "duration": 10,
    "start_time": "2023-09-09T12:51:57.796Z"
   },
   {
    "duration": 3,
    "start_time": "2023-09-09T12:51:57.808Z"
   },
   {
    "duration": 5,
    "start_time": "2023-09-09T12:51:57.824Z"
   },
   {
    "duration": 11,
    "start_time": "2023-09-09T12:51:57.830Z"
   },
   {
    "duration": 6,
    "start_time": "2023-09-09T12:51:57.843Z"
   },
   {
    "duration": 3,
    "start_time": "2023-09-09T12:51:57.851Z"
   },
   {
    "duration": 395,
    "start_time": "2023-09-09T12:52:05.343Z"
   },
   {
    "duration": 954,
    "start_time": "2023-09-09T12:53:14.395Z"
   },
   {
    "duration": 301,
    "start_time": "2023-09-09T12:57:36.601Z"
   },
   {
    "duration": 991,
    "start_time": "2023-09-09T13:01:29.119Z"
   },
   {
    "duration": 167,
    "start_time": "2023-09-09T13:03:28.726Z"
   },
   {
    "duration": 171,
    "start_time": "2023-09-09T13:05:16.741Z"
   },
   {
    "duration": 240,
    "start_time": "2023-09-09T13:05:57.543Z"
   },
   {
    "duration": 263,
    "start_time": "2023-09-09T13:08:08.485Z"
   },
   {
    "duration": 375,
    "start_time": "2023-09-09T13:09:26.037Z"
   },
   {
    "duration": 263,
    "start_time": "2023-09-09T13:10:56.303Z"
   },
   {
    "duration": 279,
    "start_time": "2023-09-09T13:11:32.461Z"
   },
   {
    "duration": 189,
    "start_time": "2023-09-09T13:13:26.007Z"
   },
   {
    "duration": 506,
    "start_time": "2023-09-09T13:15:09.734Z"
   },
   {
    "duration": 460,
    "start_time": "2023-09-09T13:15:21.470Z"
   },
   {
    "duration": 448,
    "start_time": "2023-09-09T13:15:28.095Z"
   },
   {
    "duration": 176,
    "start_time": "2023-09-09T13:17:22.863Z"
   },
   {
    "duration": 185,
    "start_time": "2023-09-09T13:19:36.485Z"
   },
   {
    "duration": 3,
    "start_time": "2023-09-09T15:25:25.513Z"
   },
   {
    "duration": 11564,
    "start_time": "2023-09-09T15:25:25.517Z"
   },
   {
    "duration": 2,
    "start_time": "2023-09-09T15:25:37.083Z"
   },
   {
    "duration": 2261,
    "start_time": "2023-09-09T15:25:37.087Z"
   },
   {
    "duration": 117,
    "start_time": "2023-09-09T15:25:39.350Z"
   },
   {
    "duration": 12,
    "start_time": "2023-09-09T15:25:39.468Z"
   },
   {
    "duration": 28,
    "start_time": "2023-09-09T15:25:39.482Z"
   },
   {
    "duration": 9,
    "start_time": "2023-09-09T15:25:39.511Z"
   },
   {
    "duration": 8,
    "start_time": "2023-09-09T15:25:39.522Z"
   },
   {
    "duration": 16,
    "start_time": "2023-09-09T15:25:39.531Z"
   },
   {
    "duration": 8,
    "start_time": "2023-09-09T15:25:39.548Z"
   },
   {
    "duration": 7,
    "start_time": "2023-09-09T15:25:39.557Z"
   },
   {
    "duration": 14,
    "start_time": "2023-09-09T15:25:39.566Z"
   },
   {
    "duration": 382,
    "start_time": "2023-09-09T15:25:39.581Z"
   },
   {
    "duration": 992,
    "start_time": "2023-09-09T15:25:39.965Z"
   },
   {
    "duration": 167,
    "start_time": "2023-09-09T15:25:40.959Z"
   },
   {
    "duration": 5,
    "start_time": "2023-09-09T15:29:28.622Z"
   },
   {
    "duration": 2256,
    "start_time": "2023-09-09T15:29:28.629Z"
   },
   {
    "duration": 2,
    "start_time": "2023-09-09T15:29:30.887Z"
   },
   {
    "duration": 1796,
    "start_time": "2023-09-09T15:29:30.892Z"
   },
   {
    "duration": 59,
    "start_time": "2023-09-09T15:29:32.689Z"
   },
   {
    "duration": 12,
    "start_time": "2023-09-09T15:29:32.750Z"
   },
   {
    "duration": 25,
    "start_time": "2023-09-09T15:29:32.764Z"
   },
   {
    "duration": 35,
    "start_time": "2023-09-09T15:29:32.790Z"
   },
   {
    "duration": 10,
    "start_time": "2023-09-09T15:29:32.827Z"
   },
   {
    "duration": 28,
    "start_time": "2023-09-09T15:29:32.838Z"
   },
   {
    "duration": 11,
    "start_time": "2023-09-09T15:29:32.868Z"
   },
   {
    "duration": 20,
    "start_time": "2023-09-09T15:29:32.880Z"
   },
   {
    "duration": 24,
    "start_time": "2023-09-09T15:29:32.902Z"
   },
   {
    "duration": 395,
    "start_time": "2023-09-09T15:29:32.928Z"
   },
   {
    "duration": 941,
    "start_time": "2023-09-09T15:29:33.326Z"
   },
   {
    "duration": 255,
    "start_time": "2023-09-09T15:29:34.269Z"
   },
   {
    "duration": 202,
    "start_time": "2023-09-09T15:30:28.334Z"
   },
   {
    "duration": 177,
    "start_time": "2023-09-09T15:35:31.358Z"
   },
   {
    "duration": 186,
    "start_time": "2023-09-09T15:35:47.104Z"
   },
   {
    "duration": 181,
    "start_time": "2023-09-09T15:37:28.630Z"
   },
   {
    "duration": 288,
    "start_time": "2023-09-09T15:40:54.889Z"
   },
   {
    "duration": 280,
    "start_time": "2023-09-09T15:46:24.542Z"
   },
   {
    "duration": 252,
    "start_time": "2023-09-09T15:54:52.942Z"
   },
   {
    "duration": 167,
    "start_time": "2023-09-09T15:57:31.441Z"
   },
   {
    "duration": 194,
    "start_time": "2023-09-09T16:01:11.726Z"
   },
   {
    "duration": 170,
    "start_time": "2023-09-09T16:02:44.129Z"
   },
   {
    "duration": 281,
    "start_time": "2023-09-09T16:06:17.925Z"
   },
   {
    "duration": 161,
    "start_time": "2023-09-09T16:07:03.375Z"
   },
   {
    "duration": 12,
    "start_time": "2023-09-09T16:08:15.104Z"
   },
   {
    "duration": 2209,
    "start_time": "2023-09-09T16:08:15.118Z"
   },
   {
    "duration": 3,
    "start_time": "2023-09-09T16:08:17.329Z"
   },
   {
    "duration": 1775,
    "start_time": "2023-09-09T16:08:17.334Z"
   },
   {
    "duration": 54,
    "start_time": "2023-09-09T16:08:19.111Z"
   },
   {
    "duration": 9,
    "start_time": "2023-09-09T16:08:19.167Z"
   },
   {
    "duration": 34,
    "start_time": "2023-09-09T16:08:19.177Z"
   },
   {
    "duration": 27,
    "start_time": "2023-09-09T16:08:19.212Z"
   },
   {
    "duration": 21,
    "start_time": "2023-09-09T16:08:19.240Z"
   },
   {
    "duration": 8,
    "start_time": "2023-09-09T16:08:19.263Z"
   },
   {
    "duration": 16,
    "start_time": "2023-09-09T16:08:19.272Z"
   },
   {
    "duration": 25,
    "start_time": "2023-09-09T16:08:19.290Z"
   },
   {
    "duration": 21,
    "start_time": "2023-09-09T16:08:19.317Z"
   },
   {
    "duration": 391,
    "start_time": "2023-09-09T16:08:19.340Z"
   },
   {
    "duration": 958,
    "start_time": "2023-09-09T16:08:19.734Z"
   },
   {
    "duration": 292,
    "start_time": "2023-09-09T16:08:20.694Z"
   },
   {
    "duration": 170,
    "start_time": "2023-09-09T16:08:55.711Z"
   },
   {
    "duration": 4,
    "start_time": "2023-09-09T16:12:59.606Z"
   },
   {
    "duration": 2280,
    "start_time": "2023-09-09T16:12:59.612Z"
   },
   {
    "duration": 3,
    "start_time": "2023-09-09T16:13:01.894Z"
   },
   {
    "duration": 1870,
    "start_time": "2023-09-09T16:13:01.898Z"
   },
   {
    "duration": 59,
    "start_time": "2023-09-09T16:13:03.769Z"
   },
   {
    "duration": 11,
    "start_time": "2023-09-09T16:13:03.829Z"
   },
   {
    "duration": 24,
    "start_time": "2023-09-09T16:13:03.842Z"
   },
   {
    "duration": 25,
    "start_time": "2023-09-09T16:13:03.868Z"
   },
   {
    "duration": 13,
    "start_time": "2023-09-09T16:13:03.896Z"
   },
   {
    "duration": 23,
    "start_time": "2023-09-09T16:13:03.911Z"
   },
   {
    "duration": 26,
    "start_time": "2023-09-09T16:13:03.936Z"
   },
   {
    "duration": 16,
    "start_time": "2023-09-09T16:13:03.964Z"
   },
   {
    "duration": 9,
    "start_time": "2023-09-09T16:13:03.981Z"
   },
   {
    "duration": 440,
    "start_time": "2023-09-09T16:13:03.991Z"
   },
   {
    "duration": 973,
    "start_time": "2023-09-09T16:13:04.433Z"
   },
   {
    "duration": 275,
    "start_time": "2023-09-09T16:13:05.408Z"
   },
   {
    "duration": 9,
    "start_time": "2023-09-09T16:13:50.386Z"
   },
   {
    "duration": 4,
    "start_time": "2023-09-09T16:13:59.632Z"
   },
   {
    "duration": 4,
    "start_time": "2023-09-10T13:33:30.256Z"
   },
   {
    "duration": 11256,
    "start_time": "2023-09-10T13:33:30.262Z"
   },
   {
    "duration": 2,
    "start_time": "2023-09-10T13:33:41.520Z"
   },
   {
    "duration": 2202,
    "start_time": "2023-09-10T13:33:41.524Z"
   },
   {
    "duration": 125,
    "start_time": "2023-09-10T13:33:43.730Z"
   },
   {
    "duration": 13,
    "start_time": "2023-09-10T13:33:43.857Z"
   },
   {
    "duration": 52,
    "start_time": "2023-09-10T13:33:43.871Z"
   },
   {
    "duration": 10,
    "start_time": "2023-09-10T13:33:43.925Z"
   },
   {
    "duration": 2,
    "start_time": "2023-09-10T13:33:43.937Z"
   },
   {
    "duration": 8,
    "start_time": "2023-09-10T13:33:43.941Z"
   },
   {
    "duration": 6,
    "start_time": "2023-09-10T13:33:43.951Z"
   },
   {
    "duration": 38,
    "start_time": "2023-09-10T13:33:43.959Z"
   },
   {
    "duration": 8,
    "start_time": "2023-09-10T13:33:43.999Z"
   },
   {
    "duration": 480,
    "start_time": "2023-09-10T13:33:44.010Z"
   },
   {
    "duration": 1171,
    "start_time": "2023-09-10T13:33:44.491Z"
   },
   {
    "duration": 212,
    "start_time": "2023-09-10T13:33:45.663Z"
   },
   {
    "duration": 180,
    "start_time": "2023-09-10T13:33:51.630Z"
   },
   {
    "duration": 4,
    "start_time": "2023-09-10T18:57:30.352Z"
   },
   {
    "duration": 12083,
    "start_time": "2023-09-10T18:57:30.358Z"
   },
   {
    "duration": 3,
    "start_time": "2023-09-10T18:57:42.444Z"
   },
   {
    "duration": 2037,
    "start_time": "2023-09-10T18:57:42.450Z"
   },
   {
    "duration": 190,
    "start_time": "2023-09-10T18:57:44.489Z"
   },
   {
    "duration": 13,
    "start_time": "2023-09-10T18:57:44.681Z"
   },
   {
    "duration": 24,
    "start_time": "2023-09-10T18:57:44.695Z"
   },
   {
    "duration": 13,
    "start_time": "2023-09-10T18:57:44.720Z"
   },
   {
    "duration": 9,
    "start_time": "2023-09-10T18:57:44.735Z"
   },
   {
    "duration": 23,
    "start_time": "2023-09-10T18:57:44.746Z"
   },
   {
    "duration": 20,
    "start_time": "2023-09-10T18:57:44.771Z"
   },
   {
    "duration": 11,
    "start_time": "2023-09-10T18:57:44.793Z"
   },
   {
    "duration": 15,
    "start_time": "2023-09-10T18:57:44.806Z"
   },
   {
    "duration": 415,
    "start_time": "2023-09-10T18:57:44.824Z"
   },
   {
    "duration": 1141,
    "start_time": "2023-09-10T18:57:45.241Z"
   },
   {
    "duration": 209,
    "start_time": "2023-09-10T18:57:46.384Z"
   },
   {
    "duration": 183,
    "start_time": "2023-09-10T18:57:46.596Z"
   },
   {
    "duration": 166,
    "start_time": "2023-09-10T18:58:45.821Z"
   },
   {
    "duration": 14,
    "start_time": "2023-09-10T18:58:59.847Z"
   },
   {
    "duration": 17,
    "start_time": "2023-09-10T18:59:03.851Z"
   },
   {
    "duration": 4,
    "start_time": "2023-09-10T19:00:04.873Z"
   },
   {
    "duration": 2396,
    "start_time": "2023-09-10T19:00:04.879Z"
   },
   {
    "duration": 3,
    "start_time": "2023-09-10T19:00:07.277Z"
   },
   {
    "duration": 1911,
    "start_time": "2023-09-10T19:00:07.282Z"
   },
   {
    "duration": 54,
    "start_time": "2023-09-10T19:00:09.195Z"
   },
   {
    "duration": 11,
    "start_time": "2023-09-10T19:00:09.251Z"
   },
   {
    "duration": 19,
    "start_time": "2023-09-10T19:00:09.263Z"
   },
   {
    "duration": 33,
    "start_time": "2023-09-10T19:00:09.284Z"
   },
   {
    "duration": 2,
    "start_time": "2023-09-10T19:00:09.319Z"
   },
   {
    "duration": 8,
    "start_time": "2023-09-10T19:00:09.323Z"
   },
   {
    "duration": 16,
    "start_time": "2023-09-10T19:00:09.332Z"
   },
   {
    "duration": 10,
    "start_time": "2023-09-10T19:00:09.350Z"
   },
   {
    "duration": 5,
    "start_time": "2023-09-10T19:00:09.362Z"
   },
   {
    "duration": 437,
    "start_time": "2023-09-10T19:00:09.370Z"
   },
   {
    "duration": 993,
    "start_time": "2023-09-10T19:00:09.809Z"
   },
   {
    "duration": 292,
    "start_time": "2023-09-10T19:00:10.804Z"
   },
   {
    "duration": 178,
    "start_time": "2023-09-10T19:00:11.098Z"
   },
   {
    "duration": 13,
    "start_time": "2023-09-10T19:00:11.277Z"
   },
   {
    "duration": 148,
    "start_time": "2023-09-10T19:00:35.652Z"
   },
   {
    "duration": 8,
    "start_time": "2023-09-10T19:01:58.115Z"
   },
   {
    "duration": 14,
    "start_time": "2023-09-10T19:02:25.624Z"
   },
   {
    "duration": 9,
    "start_time": "2023-09-10T19:03:09.768Z"
   },
   {
    "duration": 4,
    "start_time": "2023-09-10T19:03:21.549Z"
   },
   {
    "duration": 2389,
    "start_time": "2023-09-10T19:03:21.555Z"
   },
   {
    "duration": 3,
    "start_time": "2023-09-10T19:03:23.946Z"
   },
   {
    "duration": 1773,
    "start_time": "2023-09-10T19:03:23.951Z"
   },
   {
    "duration": 53,
    "start_time": "2023-09-10T19:03:25.727Z"
   },
   {
    "duration": 11,
    "start_time": "2023-09-10T19:03:25.781Z"
   },
   {
    "duration": 27,
    "start_time": "2023-09-10T19:03:25.794Z"
   },
   {
    "duration": 9,
    "start_time": "2023-09-10T19:03:25.823Z"
   },
   {
    "duration": 2,
    "start_time": "2023-09-10T19:03:25.834Z"
   },
   {
    "duration": 10,
    "start_time": "2023-09-10T19:03:25.838Z"
   },
   {
    "duration": 6,
    "start_time": "2023-09-10T19:03:25.850Z"
   },
   {
    "duration": 12,
    "start_time": "2023-09-10T19:03:25.857Z"
   },
   {
    "duration": 13,
    "start_time": "2023-09-10T19:03:25.871Z"
   },
   {
    "duration": 436,
    "start_time": "2023-09-10T19:03:25.887Z"
   },
   {
    "duration": 953,
    "start_time": "2023-09-10T19:03:26.325Z"
   },
   {
    "duration": 280,
    "start_time": "2023-09-10T19:03:27.280Z"
   },
   {
    "duration": 179,
    "start_time": "2023-09-10T19:03:27.562Z"
   },
   {
    "duration": 12,
    "start_time": "2023-09-10T19:03:27.743Z"
   },
   {
    "duration": 11,
    "start_time": "2023-09-10T19:03:38.924Z"
   },
   {
    "duration": 14,
    "start_time": "2023-09-10T19:03:41.893Z"
   },
   {
    "duration": 9,
    "start_time": "2023-09-10T19:07:25.156Z"
   },
   {
    "duration": 5,
    "start_time": "2023-09-10T19:16:46.128Z"
   },
   {
    "duration": 5,
    "start_time": "2023-09-10T19:17:37.356Z"
   },
   {
    "duration": 156,
    "start_time": "2023-09-10T19:23:48.785Z"
   },
   {
    "duration": 50422,
    "start_time": "2023-09-10T19:24:37.296Z"
   },
   {
    "duration": 4,
    "start_time": "2023-09-10T19:32:05.471Z"
   },
   {
    "duration": 2622,
    "start_time": "2023-09-10T19:32:05.477Z"
   },
   {
    "duration": 2,
    "start_time": "2023-09-10T19:32:08.102Z"
   },
   {
    "duration": 1949,
    "start_time": "2023-09-10T19:32:08.106Z"
   },
   {
    "duration": 61,
    "start_time": "2023-09-10T19:32:10.058Z"
   },
   {
    "duration": 15,
    "start_time": "2023-09-10T19:32:10.123Z"
   },
   {
    "duration": 25,
    "start_time": "2023-09-10T19:32:10.141Z"
   },
   {
    "duration": 10,
    "start_time": "2023-09-10T19:32:10.169Z"
   },
   {
    "duration": 39,
    "start_time": "2023-09-10T19:32:10.182Z"
   },
   {
    "duration": 34,
    "start_time": "2023-09-10T19:32:10.224Z"
   },
   {
    "duration": 66,
    "start_time": "2023-09-10T19:32:10.260Z"
   },
   {
    "duration": 11,
    "start_time": "2023-09-10T19:32:10.328Z"
   },
   {
    "duration": 19,
    "start_time": "2023-09-10T19:32:10.341Z"
   },
   {
    "duration": 496,
    "start_time": "2023-09-10T19:32:10.363Z"
   },
   {
    "duration": 1152,
    "start_time": "2023-09-10T19:32:10.862Z"
   },
   {
    "duration": 340,
    "start_time": "2023-09-10T19:32:12.016Z"
   },
   {
    "duration": 285,
    "start_time": "2023-09-10T19:32:12.358Z"
   },
   {
    "duration": 15,
    "start_time": "2023-09-10T19:32:12.645Z"
   },
   {
    "duration": 13,
    "start_time": "2023-09-10T19:32:12.662Z"
   },
   {
    "duration": 37,
    "start_time": "2023-09-10T19:32:12.677Z"
   },
   {
    "duration": 14,
    "start_time": "2023-09-10T19:32:12.717Z"
   },
   {
    "duration": 5,
    "start_time": "2023-09-10T19:32:12.733Z"
   },
   {
    "duration": 49903,
    "start_time": "2023-09-10T19:33:20.766Z"
   },
   {
    "duration": 510,
    "start_time": "2023-09-10T19:42:24.805Z"
   },
   {
    "duration": 2,
    "start_time": "2023-09-10T19:44:59.848Z"
   },
   {
    "duration": 974345,
    "start_time": "2023-09-10T19:46:01.999Z"
   },
   {
    "duration": 3,
    "start_time": "2023-09-10T20:02:16.346Z"
   },
   {
    "duration": 3,
    "start_time": "2023-09-10T20:04:46.711Z"
   },
   {
    "duration": 345182,
    "start_time": "2023-09-10T20:09:06.728Z"
   },
   {
    "duration": 3,
    "start_time": "2023-09-10T20:19:40.215Z"
   },
   {
    "duration": 3,
    "start_time": "2023-09-10T20:19:42.362Z"
   },
   {
    "duration": 3,
    "start_time": "2023-09-10T20:19:44.542Z"
   },
   {
    "duration": 2,
    "start_time": "2023-09-10T20:19:47.069Z"
   },
   {
    "duration": 2,
    "start_time": "2023-09-10T20:19:49.790Z"
   },
   {
    "duration": 2,
    "start_time": "2023-09-10T20:19:52.207Z"
   },
   {
    "duration": 3,
    "start_time": "2023-09-10T20:19:54.669Z"
   },
   {
    "duration": 42,
    "start_time": "2023-09-10T20:20:01.115Z"
   },
   {
    "duration": 217,
    "start_time": "2023-09-10T20:27:07.725Z"
   },
   {
    "duration": 224,
    "start_time": "2023-09-10T20:27:23.545Z"
   },
   {
    "duration": 62,
    "start_time": "2023-09-10T20:41:13.758Z"
   },
   {
    "duration": 4,
    "start_time": "2023-09-10T20:43:06.317Z"
   },
   {
    "duration": 2410,
    "start_time": "2023-09-10T20:43:06.324Z"
   },
   {
    "duration": 3,
    "start_time": "2023-09-10T20:43:08.736Z"
   },
   {
    "duration": 2227,
    "start_time": "2023-09-10T20:43:08.741Z"
   },
   {
    "duration": 153,
    "start_time": "2023-09-10T20:43:10.970Z"
   },
   {
    "duration": 11,
    "start_time": "2023-09-10T20:43:11.125Z"
   },
   {
    "duration": 39,
    "start_time": "2023-09-10T20:43:11.138Z"
   },
   {
    "duration": 9,
    "start_time": "2023-09-10T20:43:11.179Z"
   },
   {
    "duration": 12,
    "start_time": "2023-09-10T20:43:11.190Z"
   },
   {
    "duration": 6,
    "start_time": "2023-09-10T20:43:11.204Z"
   },
   {
    "duration": 8,
    "start_time": "2023-09-10T20:43:11.211Z"
   },
   {
    "duration": 8,
    "start_time": "2023-09-10T20:43:11.221Z"
   },
   {
    "duration": 2,
    "start_time": "2023-09-10T20:43:11.231Z"
   },
   {
    "duration": 432,
    "start_time": "2023-09-10T20:43:11.235Z"
   },
   {
    "duration": 1086,
    "start_time": "2023-09-10T20:43:11.669Z"
   },
   {
    "duration": 291,
    "start_time": "2023-09-10T20:43:12.757Z"
   },
   {
    "duration": 191,
    "start_time": "2023-09-10T20:43:13.050Z"
   },
   {
    "duration": 13,
    "start_time": "2023-09-10T20:43:13.243Z"
   },
   {
    "duration": 11,
    "start_time": "2023-09-10T20:43:13.257Z"
   },
   {
    "duration": 40,
    "start_time": "2023-09-10T20:43:13.270Z"
   },
   {
    "duration": 9,
    "start_time": "2023-09-10T20:43:13.312Z"
   },
   {
    "duration": 3,
    "start_time": "2023-09-10T20:43:13.323Z"
   },
   {
    "duration": 4,
    "start_time": "2023-09-10T20:43:13.328Z"
   },
   {
    "duration": 48249,
    "start_time": "2023-09-10T20:43:13.336Z"
   },
   {
    "duration": 2,
    "start_time": "2023-09-10T20:44:01.587Z"
   },
   {
    "duration": 624,
    "start_time": "2023-09-10T20:44:01.591Z"
   },
   {
    "duration": 93,
    "start_time": "2023-09-10T20:44:02.218Z"
   },
   {
    "duration": 527088,
    "start_time": "2023-09-10T20:44:02.313Z"
   },
   {
    "duration": 2,
    "start_time": "2023-09-10T20:52:49.403Z"
   },
   {
    "duration": 11,
    "start_time": "2023-09-10T20:52:49.407Z"
   },
   {
    "duration": 19,
    "start_time": "2023-09-10T20:52:49.419Z"
   },
   {
    "duration": 399871,
    "start_time": "2023-09-10T20:52:49.440Z"
   },
   {
    "duration": 2,
    "start_time": "2023-09-10T20:59:29.313Z"
   },
   {
    "duration": 6,
    "start_time": "2023-09-10T20:59:29.316Z"
   },
   {
    "duration": 5,
    "start_time": "2023-09-10T20:59:29.323Z"
   },
   {
    "duration": 10,
    "start_time": "2023-09-10T20:59:29.329Z"
   },
   {
    "duration": 5,
    "start_time": "2023-09-10T20:59:29.341Z"
   },
   {
    "duration": 6,
    "start_time": "2023-09-10T20:59:29.348Z"
   },
   {
    "duration": 12,
    "start_time": "2023-09-10T20:59:29.356Z"
   },
   {
    "duration": 76,
    "start_time": "2023-09-10T20:59:29.369Z"
   },
   {
    "duration": 291,
    "start_time": "2023-09-10T20:59:29.447Z"
   },
   {
    "duration": 300738,
    "start_time": "2023-09-10T20:59:29.740Z"
   },
   {
    "duration": 6403,
    "start_time": "2023-09-10T21:09:44.156Z"
   }
  ],
  "kernelspec": {
   "display_name": "Python 3 (ipykernel)",
   "language": "python",
   "name": "python3"
  },
  "language_info": {
   "codemirror_mode": {
    "name": "ipython",
    "version": 3
   },
   "file_extension": ".py",
   "mimetype": "text/x-python",
   "name": "python",
   "nbconvert_exporter": "python",
   "pygments_lexer": "ipython3",
   "version": "3.9.5"
  },
  "toc": {
   "base_numbering": 1,
   "nav_menu": {},
   "number_sections": true,
   "sideBar": true,
   "skip_h1_title": true,
   "title_cell": "Содержание",
   "title_sidebar": "Contents",
   "toc_cell": true,
   "toc_position": {},
   "toc_section_display": true,
   "toc_window_display": true
  }
 },
 "nbformat": 4,
 "nbformat_minor": 2
}
